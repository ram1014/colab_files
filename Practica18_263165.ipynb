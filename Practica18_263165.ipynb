{
  "nbformat": 4,
  "nbformat_minor": 0,
  "metadata": {
    "colab": {
      "provenance": [],
      "authorship_tag": "ABX9TyOBmkIXIsLg3+MvtNj8UgnW",
      "include_colab_link": true
    },
    "kernelspec": {
      "name": "python3",
      "display_name": "Python 3"
    },
    "language_info": {
      "name": "python"
    }
  },
  "cells": [
    {
      "cell_type": "markdown",
      "metadata": {
        "id": "view-in-github",
        "colab_type": "text"
      },
      "source": [
        "<a href=\"https://colab.research.google.com/github/ram1014/colab_files/blob/main/Practica18_263165.ipynb\" target=\"_parent\"><img src=\"https://colab.research.google.com/assets/colab-badge.svg\" alt=\"Open In Colab\"/></a>"
      ]
    },
    {
      "cell_type": "markdown",
      "source": [
        "#Practica 18\n",
        "\n",
        "Alumno: Ramon Humberto Delgado Andrade\n",
        "\n",
        "Matrícula: 263165\n",
        "\n",
        "Profesor: Vicente García Jiméne"
      ],
      "metadata": {
        "id": "xpNvceCxNaio"
      }
    },
    {
      "cell_type": "markdown",
      "source": [
        "#Imports"
      ],
      "metadata": {
        "id": "LNJss45UNjaW"
      }
    },
    {
      "cell_type": "code",
      "execution_count": 3,
      "metadata": {
        "colab": {
          "base_uri": "https://localhost:8080/"
        },
        "id": "jj9o9x0uNTJc",
        "outputId": "0d3fc964-0d41-4397-de7e-cf11a882a2d1"
      },
      "outputs": [
        {
          "output_type": "stream",
          "name": "stdout",
          "text": [
            "Drive already mounted at /content/drive; to attempt to forcibly remount, call drive.mount(\"/content/drive\", force_remount=True).\n"
          ]
        }
      ],
      "source": [
        "from google.colab import drive\n",
        "drive.mount('/content/drive')\n",
        "import pandas as pd\n",
        "import numpy as np"
      ]
    },
    {
      "cell_type": "markdown",
      "source": [
        "#Carga de archivo\n",
        "Instrucciones:\n",
        "\n",
        "1. Descarga el archivo airdata.csv, proporcionado en esta tarea. También lo puedes encontrar en recursos.\n",
        "1. Crea un notebook en colab y guarda el archivo csv  en tu drive.\n",
        "1. Agrega secciones en el colab poniendo como título el nombre de cada ejercicio\n",
        "\n"
      ],
      "metadata": {
        "id": "eOlm59NuN2nl"
      }
    },
    {
      "cell_type": "markdown",
      "source": [
        "#Ejercicio 01:Tipo de Datos Correcto\n",
        "\n",
        "1. Carga el conjunto de datos airdata.csv y verifica que cada columna tenga el tipo de datos correcto\n",
        "1. Si una columna de tipo temporal no está en el tipo de correcto realiza la conversión.\n",
        "1. Usa dtypes para mostrar que cada columna, principalmente la que contiene datos temporales, está en el tipo de datos correcto\n",
        "1. Imprime las primeras tres líneas\n"
      ],
      "metadata": {
        "id": "i8JwBhmXOV5O"
      }
    },
    {
      "cell_type": "code",
      "source": [
        "#load dataframe with data from nls97.csv\n",
        "df = pd.read_csv(\"/content/drive/MyDrive/ClassFiles/Airdata.csv\")\n",
        "#Ejercicio 01:Tipo de Datos Correcto\n",
        "text_dtypes = df.dtypes.to_string()\n",
        "#highlight the DateTime column type to compare later after change of datatype\n",
        "print(text_dtypes.replace(\"object\", \"object <-------\"),'\\n\\n')\n",
        "print(df.head())\n",
        "\n",
        "#Use the to_datetime function embeded on pandas to convert column DateTime\n",
        "df['DateTime']=pd.to_datetime(df['DateTime'])\n",
        "\n",
        "#Show the change of datatype\n",
        "print('\\n\\nMostrando cambio de datatype:\\n')\n",
        "text_dtypes = df.dtypes.to_string()\n",
        "print(text_dtypes.replace(\"datetime64[ns]\", \"datetime64[ns] <-------\"))\n",
        "print(df.head(3))\n",
        "\n"
      ],
      "metadata": {
        "colab": {
          "base_uri": "https://localhost:8080/"
        },
        "id": "oHgMceHXOWdw",
        "outputId": "009be006-c115-4f69-8c3a-cb9d622a000c"
      },
      "execution_count": 8,
      "outputs": [
        {
          "output_type": "stream",
          "name": "stdout",
          "text": [
            "DateTime           object <-------\n",
            "Temperature       float64\n",
            "Humidity            int64\n",
            "Wind_Speed        float64\n",
            "Wind_Direction    float64\n",
            "NO2_Location_A    float64\n",
            "NO2_Location_B    float64\n",
            "NO2_Location_C    float64 \n",
            "\n",
            "\n",
            "        DateTime  Temperature  Humidity  Wind_Speed  Wind_Direction  \\\n",
            "0  1/1/2020 0:00     2.180529        87    1.484318       75.963760   \n",
            "1  1/1/2020 1:00     1.490529        89    2.741678      113.198590   \n",
            "2  1/1/2020 2:00     1.690529        85    3.563818      135.000000   \n",
            "3  1/1/2020 3:00     1.430529        84    2.811690      129.805570   \n",
            "4  1/1/2020 4:00     0.840529        86    1.800000      126.869896   \n",
            "\n",
            "   NO2_Location_A  NO2_Location_B  NO2_Location_C  \n",
            "0           39.23           52.88           62.37  \n",
            "1           38.30           44.95           52.53  \n",
            "2             NaN           48.40           54.80  \n",
            "3           37.28           47.18           50.80  \n",
            "4           29.97           41.48           54.43  \n",
            "\n",
            "\n",
            "Mostrando cambio de datatype:\n",
            "\n",
            "DateTime          datetime64[ns] <-------\n",
            "Temperature              float64\n",
            "Humidity                   int64\n",
            "Wind_Speed               float64\n",
            "Wind_Direction           float64\n",
            "NO2_Location_A           float64\n",
            "NO2_Location_B           float64\n",
            "NO2_Location_C           float64\n",
            "             DateTime  Temperature  Humidity  Wind_Speed  Wind_Direction  \\\n",
            "0 2020-01-01 00:00:00     2.180529        87    1.484318        75.96376   \n",
            "1 2020-01-01 01:00:00     1.490529        89    2.741678       113.19859   \n",
            "2 2020-01-01 02:00:00     1.690529        85    3.563818       135.00000   \n",
            "\n",
            "   NO2_Location_A  NO2_Location_B  NO2_Location_C  \n",
            "0           39.23           52.88           62.37  \n",
            "1           38.30           44.95           52.53  \n",
            "2             NaN           48.40           54.80  \n"
          ]
        }
      ]
    },
    {
      "cell_type": "markdown",
      "source": [
        "#Ejercicio 02: Extraer componentes de fecha y tiempo\n",
        "\n",
        "1. De la columna 'DateTime' extrae el año, mes, día y hora. Crea una nueva columna para cada componente que extraes\n",
        "1. Imprime las primeras tres líneas del dataframe que ahora deberá tener 4 nuevas columnas.\n"
      ],
      "metadata": {
        "id": "mU2VEyKuPBZv"
      }
    },
    {
      "cell_type": "code",
      "source": [
        "#Ejercicio 02: Extraer componentes de fecha y tiempo\n",
        "df['Year'] = df['DateTime'].dt.year\n",
        "df['Month'] = df['DateTime'].dt.month\n",
        "df['Day'] = df['DateTime'].dt.day\n",
        "df['Hour'] = df['DateTime'].dt.hour\n",
        "\n",
        "print('Despues de separar los datos de DateTime en Year, Month, Day, Hour')\n",
        "print('Mostrar las nuevas columnas')\n",
        "print(df[['DateTime','Year','Month','Day','Hour']].head(3))\n",
        "\n",
        "\n"
      ],
      "metadata": {
        "colab": {
          "base_uri": "https://localhost:8080/"
        },
        "id": "5qr3FQoEPB0k",
        "outputId": "3f62687e-f07e-4f46-9bd1-84ab7bbc10ed"
      },
      "execution_count": 12,
      "outputs": [
        {
          "output_type": "stream",
          "name": "stdout",
          "text": [
            "Despues de separar los datos de DateTime en Year, Month, Day, Hour\n",
            "Mostrar las nuevas columnas\n",
            "             DateTime  Year  Month  Day  Hour\n",
            "0 2020-01-01 00:00:00  2020      1    1     0\n",
            "1 2020-01-01 01:00:00  2020      1    1     1\n",
            "2 2020-01-01 02:00:00  2020      1    1     2\n"
          ]
        }
      ]
    },
    {
      "cell_type": "markdown",
      "source": [
        "#Ejercicio 03: Aritmética - Suma de Intervalos (timedelta)\n",
        "\n",
        "1. Suma 10 días, 7 horas y 15 minutos a cada elemento de la columna 'DateTime'. Guarda el resultado en una nueva columna y agrega al dataframe.\n",
        "1. Imprime la columna 'DateTime' y la columna que resulta de sumar 10 días, 7 horas y 15 minutos.\n"
      ],
      "metadata": {
        "id": "60xbinXZP2Of"
      }
    },
    {
      "cell_type": "code",
      "source": [
        "#Ejercicio 03: Aritmética - Suma de Intervalos (timedelta)\n",
        "\n",
        "print('usando timedelta sumar la cantidad de dias/horas/minutos indicados')\n",
        "df['DateTimePlus']= df['DateTime'] + pd.Timedelta(days=10, hours=7,minutes=15)\n",
        "print('Mostrar el resultado que se guardo en la nueva columna DateTimePlus')\n",
        "print(df[['DateTime','DateTimePlus']].head(3))\n",
        "\n"
      ],
      "metadata": {
        "colab": {
          "base_uri": "https://localhost:8080/"
        },
        "id": "hGJyijFxQG1U",
        "outputId": "27cb2ad2-be87-4409-9cc7-ba475c0ef52d"
      },
      "execution_count": 11,
      "outputs": [
        {
          "output_type": "stream",
          "name": "stdout",
          "text": [
            "usando timedelta sumar la cantidad de dias/horas/minutos indicados\n",
            "Mostrar el resultado que se guardo en la nueva columna DateTimePlus\n",
            "             DateTime        DateTimePlus\n",
            "0 2020-01-01 00:00:00 2020-01-11 07:15:00\n",
            "1 2020-01-01 01:00:00 2020-01-11 08:15:00\n",
            "2 2020-01-01 02:00:00 2020-01-11 09:15:00\n"
          ]
        }
      ]
    },
    {
      "cell_type": "markdown",
      "source": [
        "#Ejercicio 04: Timestamp\n",
        "\n",
        "1.  Convierte la columna 'DateTime' la cual tiene un formato de fecha legible a a timestamp Unix. Guarda el resultado en una nueva columna\n",
        "1.  Imprime las primeras tres filas de  la columna 'DateTime' y la columna que representa dicha fecha en timestamp Unix\n",
        "\n"
      ],
      "metadata": {
        "id": "sJL8gQQEP8yT"
      }
    },
    {
      "cell_type": "code",
      "source": [
        "#Ejercicio 04: Timestamp\n",
        "#df['DateTime_Timestamp']= df['DateTime'].apply(lambda x: x.timestamp())\n",
        "#usando conversion de dato a int64 y dividiento entre 10^9 obtenemos el timestamp\n",
        "df['DateTime_Timestamp']= df['DateTime'].astype(np.int64)//10**9\n",
        "print('Mostrar el timestamp que se guardo en la nueva columna DateTime_Timestamp')\n",
        "print(df[['DateTime','DateTime_Timestamp']].head(3))\n"
      ],
      "metadata": {
        "colab": {
          "base_uri": "https://localhost:8080/"
        },
        "id": "ydvhK5XSQI1O",
        "outputId": "24f23a36-5cd4-4cf5-ffb5-4ff9621f0de7"
      },
      "execution_count": 13,
      "outputs": [
        {
          "output_type": "stream",
          "name": "stdout",
          "text": [
            "Mostrar el timestamp que se guardo en la nueva columna DateTime_Timestamp\n",
            "             DateTime  DateTime_Timestamp\n",
            "0 2020-01-01 00:00:00          1577836800\n",
            "1 2020-01-01 01:00:00          1577840400\n",
            "2 2020-01-01 02:00:00          1577844000\n"
          ]
        }
      ]
    },
    {
      "cell_type": "markdown",
      "source": [
        "#Ejercicio 05: Filtrado de Fechas\n",
        "\n",
        "1.     Utiliza la columna 'DateTime' y Filtra aquellas fechas que son mayores a 2020-11-01\n",
        "1.     Imprime el resultado\n"
      ],
      "metadata": {
        "id": "ub86sLDhSf_U"
      }
    },
    {
      "cell_type": "code",
      "source": [
        "#set the reference time to evaluate\n",
        "ref_time = pd.to_datetime('2020-11-01 00:00:00')\n",
        "\n",
        "df_filtered = df[df['DateTime'] > ref_time]\n",
        "\n",
        "print(df_filtered)"
      ],
      "metadata": {
        "colab": {
          "base_uri": "https://localhost:8080/"
        },
        "id": "uY37ZDSpS27h",
        "outputId": "f4cc7bb6-05fd-4ce9-d043-3a8cd1a90668"
      },
      "execution_count": 14,
      "outputs": [
        {
          "output_type": "stream",
          "name": "stdout",
          "text": [
            "                DateTime  Temperature  Humidity  Wind_Speed  Wind_Direction  \\\n",
            "7321 2020-11-01 01:00:00    13.620529        58    6.638072       130.60129   \n",
            "7322 2020-11-01 02:00:00    13.980529        40    6.618519       157.61987   \n",
            "7323 2020-11-01 03:00:00    13.010529        43    8.209263       164.74487   \n",
            "7324 2020-11-01 04:00:00    12.190529        51    7.568566       154.65382   \n",
            "7325 2020-11-01 05:00:00    12.510529        59    7.594208       148.57043   \n",
            "...                  ...          ...       ...         ...             ...   \n",
            "8779 2020-12-31 19:00:00     4.920528        72    4.553680       251.56506   \n",
            "8780 2020-12-31 20:00:00     4.990529        74    3.259939       186.34020   \n",
            "8781 2020-12-31 21:00:00     4.360529        84   10.587917       252.18112   \n",
            "8782 2020-12-31 22:00:00     3.820528        88    8.435069       219.80557   \n",
            "8783 2020-12-31 23:00:00     3.170529        89    6.792466       212.00539   \n",
            "\n",
            "      NO2_Location_A  NO2_Location_B  NO2_Location_C  Year  Month  Day  Hour  \\\n",
            "7321           17.50           23.88           44.07  2020     11    1     1   \n",
            "7322           13.38           18.92           35.80  2020     11    1     2   \n",
            "7323           11.95           13.95           30.15  2020     11    1     3   \n",
            "7324           10.10           14.35           31.45  2020     11    1     4   \n",
            "7325           10.30           14.42           32.55  2020     11    1     5   \n",
            "...              ...             ...             ...   ...    ...  ...   ...   \n",
            "8779           53.44           32.65           66.82  2020     12   31    19   \n",
            "8780           49.80           34.03           67.31  2020     12   31    20   \n",
            "8781           43.32           25.55           59.33  2020     12   31    21   \n",
            "8782           39.88           19.90           43.70  2020     12   31    22   \n",
            "8783           39.04           30.33           46.87  2020     12   31    23   \n",
            "\n",
            "            DateTimePlus  DateTime_Timestamp  \n",
            "7321 2020-11-11 08:15:00          1604192400  \n",
            "7322 2020-11-11 09:15:00          1604196000  \n",
            "7323 2020-11-11 10:15:00          1604199600  \n",
            "7324 2020-11-11 11:15:00          1604203200  \n",
            "7325 2020-11-11 12:15:00          1604206800  \n",
            "...                  ...                 ...  \n",
            "8779 2021-01-11 02:15:00          1609441200  \n",
            "8780 2021-01-11 03:15:00          1609444800  \n",
            "8781 2021-01-11 04:15:00          1609448400  \n",
            "8782 2021-01-11 05:15:00          1609452000  \n",
            "8783 2021-01-11 06:15:00          1609455600  \n",
            "\n",
            "[1463 rows x 14 columns]\n"
          ]
        }
      ]
    }
  ]
}