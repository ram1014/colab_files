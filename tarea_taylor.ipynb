{
  "nbformat": 4,
  "nbformat_minor": 0,
  "metadata": {
    "colab": {
      "provenance": [],
      "authorship_tag": "ABX9TyPHKY6Nt9ZATZli8isiQ+Jo",
      "include_colab_link": true
    },
    "kernelspec": {
      "name": "python3",
      "display_name": "Python 3"
    },
    "language_info": {
      "name": "python"
    }
  },
  "cells": [
    {
      "cell_type": "markdown",
      "metadata": {
        "id": "view-in-github",
        "colab_type": "text"
      },
      "source": [
        "<a href=\"https://colab.research.google.com/github/ram1014/colab_files/blob/main/tarea_taylor.ipynb\" target=\"_parent\"><img src=\"https://colab.research.google.com/assets/colab-badge.svg\" alt=\"Open In Colab\"/></a>"
      ]
    },
    {
      "cell_type": "markdown",
      "source": [
        "#Tarea Polinomios de Taylor\n",
        "\n",
        "Alumno: Ramon Humberto Delgado Andrade\n",
        "\n",
        "Matrícula: 26316\n"
      ],
      "metadata": {
        "id": "HSRV65Wu4pYQ"
      }
    },
    {
      "cell_type": "markdown",
      "source": [
        "##Imports"
      ],
      "metadata": {
        "id": "6kf80qLJ40Mt"
      }
    },
    {
      "cell_type": "code",
      "execution_count": 1,
      "metadata": {
        "colab": {
          "base_uri": "https://localhost:8080/"
        },
        "id": "JBRyZzEf4Xx8",
        "outputId": "9f5ab437-dd16-4a74-9ac5-1b7af1458576"
      },
      "outputs": [
        {
          "output_type": "stream",
          "name": "stdout",
          "text": [
            "Mounted at /content/drive\n"
          ]
        }
      ],
      "source": [
        "from google.colab import drive\n",
        "drive.mount('/content/drive')\n",
        "\n",
        "import pandas as pd\n",
        "import numpy as np\n",
        "from sympy import symbols, exp, diff, lambdify\n",
        "from sympy.plotting import plot\n",
        "import matplotlib.pyplot as plt\n"
      ]
    },
    {
      "cell_type": "markdown",
      "source": [
        "##Carga de datos"
      ],
      "metadata": {
        "id": "vmeOqIeh5N3k"
      }
    },
    {
      "cell_type": "code",
      "source": [
        "df_data = pd.read_csv(\"/content/drive/MyDrive/ClassFiles/compra_producto.csv\")\n",
        "print(df_data)"
      ],
      "metadata": {
        "colab": {
          "base_uri": "https://localhost:8080/"
        },
        "id": "IY51S_ST5STR",
        "outputId": "974718fd-bf40-4ae2-deed-ac45715c0645"
      },
      "execution_count": 3,
      "outputs": [
        {
          "output_type": "stream",
          "name": "stdout",
          "text": [
            "    salario_en_miles  Probabilidad\n",
            "0                  6        0.0000\n",
            "1                  7        0.0000\n",
            "2                  8        0.0600\n",
            "3                  9        0.0200\n",
            "4                 10        0.0000\n",
            "5                 11        0.0400\n",
            "6                 12        0.0600\n",
            "7                 13        0.0600\n",
            "8                 14        0.0399\n",
            "9                 15        0.0003\n",
            "10                16        0.0591\n",
            "11                17        0.0025\n",
            "12                18        0.0067\n",
            "13                19        0.0020\n",
            "14                20        0.0274\n",
            "15                21        0.0992\n",
            "16                22        0.2489\n",
            "17                23        0.5000\n",
            "18                24        0.6711\n",
            "19                25        0.8608\n",
            "20                26        0.9126\n",
            "21                27        0.9820\n",
            "22                28        0.9733\n",
            "23                29        0.9775\n",
            "24                30        0.9391\n"
          ]
        }
      ]
    },
    {
      "cell_type": "markdown",
      "source": [
        "##1. Para los datos que se muestran en la tabla diga cuál cree que es el valor de x0"
      ],
      "metadata": {
        "id": "UFuk3zKZ5neA"
      }
    },
    {
      "cell_type": "code",
      "source": [
        "x0 = df_data.loc[df_data['Probabilidad'] == .5, 'salario_en_miles'].iloc[0]\n",
        "print(\"El valor de x0 = \",x0)\n"
      ],
      "metadata": {
        "colab": {
          "base_uri": "https://localhost:8080/"
        },
        "id": "yqLqQIaM5vr7",
        "outputId": "4f0f70a1-2108-431c-d849-080828d4a541"
      },
      "execution_count": 4,
      "outputs": [
        {
          "output_type": "stream",
          "name": "stdout",
          "text": [
            "El valor de x0 =  23\n"
          ]
        }
      ]
    },
    {
      "cell_type": "markdown",
      "source": [
        "##2. Encuentre un polinomio de Taylor de orden 3 para la función logística alrededor de x 0"
      ],
      "metadata": {
        "id": "p6YvC7Wu5wwE"
      }
    },
    {
      "cell_type": "code",
      "source": [
        "x = symbols('x')\n",
        "f_x = 1/(1+exp(x0-x))\n",
        "\n",
        "\n",
        "deriv_1 = diff(f_x, x)\n",
        "deriv_2 = diff(f_x, x,2)\n",
        "deriv_3 = diff(f_x, x,3)\n",
        "\n",
        "print(f\"Función Original: {f_x}\")\n",
        "print(f\"Derivada de orden 1: {deriv_1}\")\n",
        "print(f\"Derivada de orden 2: {deriv_2}\")\n",
        "print(f\"Derivada de orden 3: {deriv_3}\")\n",
        "\n",
        "taylor_s = f_x + deriv_1*(x-x0)+(deriv_2/2)*((x-x0)**2)+(deriv_3/6)*((x-x0)**3)\n",
        "print(f\"Polinomio de Taylor: {taylor_s}\")\n"
      ],
      "metadata": {
        "colab": {
          "base_uri": "https://localhost:8080/"
        },
        "id": "kr7imPhF5_Fj",
        "outputId": "ffa98db7-cc9e-4ddd-b0b1-227ff17e1d80"
      },
      "execution_count": 5,
      "outputs": [
        {
          "output_type": "stream",
          "name": "stdout",
          "text": [
            "Función Original: 1/(exp(23 - x) + 1)\n",
            "Derivada de orden 1: exp(23 - x)/(exp(23 - x) + 1)**2\n",
            "Derivada de orden 2: (-exp(23 - x) + 2*exp(46 - 2*x)/(exp(23 - x) + 1))/(exp(23 - x) + 1)**2\n",
            "Derivada de orden 3: (exp(23 - x) - 6*exp(46 - 2*x)/(exp(23 - x) + 1) + 6*exp(69 - 3*x)/(exp(23 - x) + 1)**2)/(exp(23 - x) + 1)**2\n",
            "Polinomio de Taylor: (x - 23)**3*(exp(23 - x) - 6*exp(46 - 2*x)/(exp(23 - x) + 1) + 6*exp(69 - 3*x)/(exp(23 - x) + 1)**2)/(6*(exp(23 - x) + 1)**2) + (x - 23)**2*(-exp(23 - x) + 2*exp(46 - 2*x)/(exp(23 - x) + 1))/(2*(exp(23 - x) + 1)**2) + (x - 23)*exp(23 - x)/(exp(23 - x) + 1)**2 + 1/(exp(23 - x) + 1)\n"
          ]
        }
      ]
    },
    {
      "cell_type": "markdown",
      "source": [
        "##3. Evalúe el polinomio obtenido para cada uno de los salarios de la tabla"
      ],
      "metadata": {
        "id": "1aXSeOcu6OBk"
      }
    },
    {
      "cell_type": "code",
      "source": [
        "x_values = df_data['salario_en_miles'].to_numpy()\n",
        "numerical_function = lambdify(x, taylor_s, \"numpy\")\n",
        "taylor_result_array = numerical_function(x_values)\n",
        "print(\"Salario en miles que se usara como valores de x:\\n\\n\",x_values)\n",
        "print(\"\\n\\nEvaluacion del polinomio de taylor usando los salarios:\\n\\n\",taylor_result_array,\"\\n\\n\")\n",
        "\n",
        "#Anexando resultados al dataframe original\n",
        "df_data['taylor_pol_results'] =  taylor_result_array\n",
        "print(\"Anexando resultados al dataframe original:\\n\\n\",df_data,\"\\n\\n\")\n"
      ],
      "metadata": {
        "colab": {
          "base_uri": "https://localhost:8080/"
        },
        "id": "0hRN3qx06Vco",
        "outputId": "c7c9e97a-1b97-4bf4-f5a1-79ddeb3da383"
      },
      "execution_count": 13,
      "outputs": [
        {
          "output_type": "stream",
          "name": "stdout",
          "text": [
            "Salario en miles que se usara como valores de x:\n",
            "\n",
            " [ 6  7  8  9 10 11 12 13 14 15 16 17 18 19 20 21 22 23 24 25 26 27 28 29\n",
            " 30]\n",
            "\n",
            "\n",
            "Evaluacion del polinomio de taylor usando los salarios:\n",
            "\n",
            " [-2.85793598e-05 -6.41074748e-05 -1.41938295e-04 -3.09603582e-04\n",
            " -6.63770036e-04 -1.39465923e-03 -2.86112470e-03 -5.70288309e-03\n",
            " -1.09708829e-02 -2.01755479e-02 -3.49508462e-02 -5.56290825e-02\n",
            " -7.75356838e-02 -8.48819709e-02 -5.22818631e-02  1.73385299e-02\n",
            "  1.23645959e-01  5.00000000e-01  8.76354041e-01  9.82661470e-01\n",
            "  1.05228186e+00  1.08488197e+00  1.07753568e+00  1.05562908e+00\n",
            "  1.03495085e+00] \n",
            "\n",
            "\n",
            "Anexando resultados al dataframe original:\n",
            "\n",
            "     salario_en_miles  Probabilidad  taylor_pol_resutls  error_aprox  \\\n",
            "0                  6        0.0000           -0.000029     0.000029   \n",
            "1                  7        0.0000           -0.000064     0.000064   \n",
            "2                  8        0.0600           -0.000142     0.060142   \n",
            "3                  9        0.0200           -0.000310     0.020310   \n",
            "4                 10        0.0000           -0.000664     0.000664   \n",
            "5                 11        0.0400           -0.001395     0.041395   \n",
            "6                 12        0.0600           -0.002861     0.062861   \n",
            "7                 13        0.0600           -0.005703     0.065703   \n",
            "8                 14        0.0399           -0.010971     0.050871   \n",
            "9                 15        0.0003           -0.020176     0.020476   \n",
            "10                16        0.0591           -0.034951     0.094051   \n",
            "11                17        0.0025           -0.055629     0.058129   \n",
            "12                18        0.0067           -0.077536     0.084236   \n",
            "13                19        0.0020           -0.084882     0.086882   \n",
            "14                20        0.0274           -0.052282     0.079682   \n",
            "15                21        0.0992            0.017339     0.081861   \n",
            "16                22        0.2489            0.123646     0.125254   \n",
            "17                23        0.5000            0.500000     0.000000   \n",
            "18                24        0.6711            0.876354     0.205254   \n",
            "19                25        0.8608            0.982661     0.121861   \n",
            "20                26        0.9126            1.052282     0.139682   \n",
            "21                27        0.9820            1.084882     0.102882   \n",
            "22                28        0.9733            1.077536     0.104236   \n",
            "23                29        0.9775            1.055629     0.078129   \n",
            "24                30        0.9391            1.034951     0.095851   \n",
            "\n",
            "    taylor_pol_results  \n",
            "0            -0.000029  \n",
            "1            -0.000064  \n",
            "2            -0.000142  \n",
            "3            -0.000310  \n",
            "4            -0.000664  \n",
            "5            -0.001395  \n",
            "6            -0.002861  \n",
            "7            -0.005703  \n",
            "8            -0.010971  \n",
            "9            -0.020176  \n",
            "10           -0.034951  \n",
            "11           -0.055629  \n",
            "12           -0.077536  \n",
            "13           -0.084882  \n",
            "14           -0.052282  \n",
            "15            0.017339  \n",
            "16            0.123646  \n",
            "17            0.500000  \n",
            "18            0.876354  \n",
            "19            0.982661  \n",
            "20            1.052282  \n",
            "21            1.084882  \n",
            "22            1.077536  \n",
            "23            1.055629  \n",
            "24            1.034951   \n",
            "\n",
            "\n"
          ]
        }
      ]
    },
    {
      "cell_type": "markdown",
      "source": [
        "##4. Encuentre el error de aproximación calculando el valor absoluto de la diferencia de los valores aproximados y los reales"
      ],
      "metadata": {
        "id": "MiMlDlPa6G8e"
      }
    },
    {
      "cell_type": "code",
      "source": [
        "df_data['error_aprox'] =  abs(df_data['Probabilidad'] - df_data['taylor_pol_results'])\n",
        "print(\"Agregando error de aproximación al dataframe \\n\\n\",df_data,\"\\n\\n\")\n"
      ],
      "metadata": {
        "colab": {
          "base_uri": "https://localhost:8080/"
        },
        "id": "CT0eFHyI7HL9",
        "outputId": "a21f1cff-aeef-4370-eaec-b5f501208462"
      },
      "execution_count": 14,
      "outputs": [
        {
          "output_type": "stream",
          "name": "stdout",
          "text": [
            "Agregando error de aproximación al dataframe \n",
            "\n",
            "     salario_en_miles  Probabilidad  taylor_pol_resutls  error_aprox  \\\n",
            "0                  6        0.0000           -0.000029     0.000029   \n",
            "1                  7        0.0000           -0.000064     0.000064   \n",
            "2                  8        0.0600           -0.000142     0.060142   \n",
            "3                  9        0.0200           -0.000310     0.020310   \n",
            "4                 10        0.0000           -0.000664     0.000664   \n",
            "5                 11        0.0400           -0.001395     0.041395   \n",
            "6                 12        0.0600           -0.002861     0.062861   \n",
            "7                 13        0.0600           -0.005703     0.065703   \n",
            "8                 14        0.0399           -0.010971     0.050871   \n",
            "9                 15        0.0003           -0.020176     0.020476   \n",
            "10                16        0.0591           -0.034951     0.094051   \n",
            "11                17        0.0025           -0.055629     0.058129   \n",
            "12                18        0.0067           -0.077536     0.084236   \n",
            "13                19        0.0020           -0.084882     0.086882   \n",
            "14                20        0.0274           -0.052282     0.079682   \n",
            "15                21        0.0992            0.017339     0.081861   \n",
            "16                22        0.2489            0.123646     0.125254   \n",
            "17                23        0.5000            0.500000     0.000000   \n",
            "18                24        0.6711            0.876354     0.205254   \n",
            "19                25        0.8608            0.982661     0.121861   \n",
            "20                26        0.9126            1.052282     0.139682   \n",
            "21                27        0.9820            1.084882     0.102882   \n",
            "22                28        0.9733            1.077536     0.104236   \n",
            "23                29        0.9775            1.055629     0.078129   \n",
            "24                30        0.9391            1.034951     0.095851   \n",
            "\n",
            "    taylor_pol_results  \n",
            "0            -0.000029  \n",
            "1            -0.000064  \n",
            "2            -0.000142  \n",
            "3            -0.000310  \n",
            "4            -0.000664  \n",
            "5            -0.001395  \n",
            "6            -0.002861  \n",
            "7            -0.005703  \n",
            "8            -0.010971  \n",
            "9            -0.020176  \n",
            "10           -0.034951  \n",
            "11           -0.055629  \n",
            "12           -0.077536  \n",
            "13           -0.084882  \n",
            "14           -0.052282  \n",
            "15            0.017339  \n",
            "16            0.123646  \n",
            "17            0.500000  \n",
            "18            0.876354  \n",
            "19            0.982661  \n",
            "20            1.052282  \n",
            "21            1.084882  \n",
            "22            1.077536  \n",
            "23            1.055629  \n",
            "24            1.034951   \n",
            "\n",
            "\n"
          ]
        }
      ]
    },
    {
      "cell_type": "markdown",
      "source": [
        "##5. Grafique los valores aproximados y los reales y analice el resultado"
      ],
      "metadata": {
        "id": "dV1n3kfu7bA5"
      }
    },
    {
      "cell_type": "code",
      "source": [
        "df_data.plot(kind='line', x='salario_en_miles', y=['Probabilidad','taylor_pol_results'])\n",
        "plt.title('Probabilidad de compra comparacion Polinomio de Taylor')\n",
        "plt.xlabel('Salario en Miles')\n",
        "plt.ylabel('Probabilidad')\n",
        "plt.grid(True)\n",
        "plt.show()\n"
      ],
      "metadata": {
        "colab": {
          "base_uri": "https://localhost:8080/",
          "height": 472
        },
        "id": "PwlJ8f0M7g6w",
        "outputId": "3f360c30-8104-4502-b110-c90fe14a9f6b"
      },
      "execution_count": 15,
      "outputs": [
        {
          "output_type": "display_data",
          "data": {
            "text/plain": [
              "<Figure size 640x480 with 1 Axes>"
            ],
            "image/png": "[encoded data removed]"
          },
          "metadata": {}
        }
      ]
    }
  ]
}