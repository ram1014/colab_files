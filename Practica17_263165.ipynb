{
  "nbformat": 4,
  "nbformat_minor": 0,
  "metadata": {
    "colab": {
      "provenance": [],
      "toc_visible": true,
      "authorship_tag": "ABX9TyME4mMpj/Ixl16xSwdxDkU9",
      "include_colab_link": true
    },
    "kernelspec": {
      "name": "python3",
      "display_name": "Python 3"
    },
    "language_info": {
      "name": "python"
    }
  },
  "cells": [
    {
      "cell_type": "markdown",
      "metadata": {
        "id": "view-in-github",
        "colab_type": "text"
      },
      "source": [
        "<a href=\"https://colab.research.google.com/github/ram1014/colab_files/blob/main/Practica17_263165.ipynb\" target=\"_parent\"><img src=\"https://colab.research.google.com/assets/colab-badge.svg\" alt=\"Open In Colab\"/></a>"
      ]
    },
    {
      "cell_type": "markdown",
      "source": [
        "#Practica 17\n",
        "\n",
        "Alumno: Ramon Humberto Delgado Andrade\n",
        "\n",
        "Matrícula: 263165\n",
        "\n",
        "Profesor: Vicente García Jiménez\n",
        "\n"
      ],
      "metadata": {
        "id": "Do3O7bxnFTRB"
      }
    },
    {
      "cell_type": "code",
      "source": [
        "from google.colab import drive\n",
        "drive.mount('/content/drive')\n",
        "import pandas as pd"
      ],
      "metadata": {
        "colab": {
          "base_uri": "https://localhost:8080/"
        },
        "id": "8YF2L_PrIJHy",
        "outputId": "cd900650-adf7-48c0-fd11-30cf82a11f94"
      },
      "execution_count": 1,
      "outputs": [
        {
          "output_type": "stream",
          "name": "stdout",
          "text": [
            "Mounted at /content/drive\n"
          ]
        }
      ]
    },
    {
      "cell_type": "markdown",
      "source": [
        "##Ejercicio 01: Errores Tipográficos y Valores Inconsistentes: maritalstatus\n",
        "\n",
        "1. Imprime de la columna 'maritalstatus' los valores únicos.\n",
        "1. Imprime la frecuencia de cada valor único\n",
        "1. Cambia el valor 'Never-Married' a 'Single'\n",
        "1. Imprime la frecuencia de cada valor único.\n"
      ],
      "metadata": {
        "id": "PE8a6iEDHilh"
      }
    },
    {
      "cell_type": "code",
      "execution_count": 2,
      "metadata": {
        "colab": {
          "base_uri": "https://localhost:8080/"
        },
        "id": "MkNB1kZ4FItb",
        "outputId": "c108de4a-c382-400e-f8d6-c0cae157bf5f"
      },
      "outputs": [
        {
          "output_type": "stream",
          "name": "stdout",
          "text": [
            "\n",
            "--------------------------------------------------------------------------------------------------------\n",
            "\n",
            "Valores unicos para la columna 'maritalstatus':\n",
            "\n",
            " ['Married' 'Never-married' nan 'Divorced' 'Separated' 'Widowed']\n",
            "\n",
            "Contador de valores unicos para la columna 'maritalstatus'\n",
            " maritalstatus\n",
            "Married          3066\n",
            "Never-married    2766\n",
            "Divorced          663\n",
            "Separated         154\n",
            "Widowed            23\n",
            "Name: count, dtype: int64 \n",
            "Cantidad de valores nulos:  2312\n",
            "Contador de valores unicos para la columna 'maritalstatus'\n",
            " maritalstatus\n",
            "Married      3066\n",
            "Single       2766\n",
            "Divorced      663\n",
            "Separated     154\n",
            "Widowed        23\n",
            "Name: count, dtype: int64 \n",
            "Cantidad de valores nulos:  2312\n",
            "\n",
            "--------------------------------------------------------------------------------------------------------\n",
            "\n"
          ]
        }
      ],
      "source": [
        "#load dataframe with data from nls97.csv\n",
        "df = pd.read_csv(\"/content/drive/MyDrive/ClassFiles/nls97.csv\")\n",
        "\n",
        "#Ejercicio 01\n",
        "\n",
        "print('\\n--------------------------------------------------------------------------------------------------------\\n')\n",
        "print(\"Valores unicos para la columna 'maritalstatus':\\n\\n\", df['maritalstatus'].unique())\n",
        "print(\"\\nContador de valores unicos para la columna 'maritalstatus'\\n\", df['maritalstatus'].value_counts(), \"\\nCantidad de valores nulos: \", df['maritalstatus'].isnull().sum())\n",
        "\n",
        "df['maritalstatus'] = df['maritalstatus'].replace({'Never-married': 'Single'})\n",
        "\n",
        "print(\"Contador de valores unicos para la columna 'maritalstatus'\\n\", df['maritalstatus'].value_counts(), \"\\nCantidad de valores nulos: \", df['maritalstatus'].isnull().sum())\n",
        "print('\\n--------------------------------------------------------------------------------------------------------\\n')\n"
      ]
    },
    {
      "cell_type": "markdown",
      "source": [
        "##Ejercicio 02: Errores Tipográficos y Valores Inconsistentes: highestdegree.\n",
        "\n",
        "1. Imprime de la columna 'highestdegrees' los valores únicos.\n",
        "1. Imprime la frecuencia de cada valor único\n",
        "1. Observa que cada valor categórico empieza con 0. Modifica las categorías para que todas estén en minúsculas y ninguna empiece con un número. Por ejemplo, si dice \"2. High School\", debería ser 'high school.\n",
        "1. Los cambios se realizarán en la misma columna 'highestdegrees'.\n",
        "1. Imprime los nuevos valores únicos.\n"
      ],
      "metadata": {
        "id": "vDiqi2NtI7sS"
      }
    },
    {
      "cell_type": "code",
      "source": [
        "#Ejercicio 02\n",
        "print('\\n--------------------------------------------------------------------------------------------------------\\n')\n",
        "print(\"Valores unicos para la columna 'highestdegree':\\n\\n\", df['highestdegree'].unique())\n",
        "print(\"\\nContador de valores unicos para la columna 'highestdegree'\\n\", df['highestdegree'].value_counts(), \"\\nCantidad de valores nulos: \", df['highestdegree'].isnull().sum())\n",
        "print('\\n Cambiando los valores de la columna highestdegree a minuscula y removiendo parte numerica')\n",
        "df['highestdegree'] = df['highestdegree'].str.lower().str.strip().replace({r'^\\d.': ''}, regex = True)\n",
        "print(\"\\nContador de valores unicos para la columna 'highestdegree'\\n\", df['highestdegree'].value_counts(), \"\\nCantidad de valores nulos: \", df['highestdegree'].isnull().sum())\n",
        "print('\\n--------------------------------------------------------------------------------------------------------\\n')\n"
      ],
      "metadata": {
        "colab": {
          "base_uri": "https://localhost:8080/"
        },
        "id": "mfCr_zUvJIkl",
        "outputId": "928ebbd7-4949-4d27-fd45-44f2cf3a90fd"
      },
      "execution_count": 4,
      "outputs": [
        {
          "output_type": "stream",
          "name": "stdout",
          "text": [
            "\n",
            "--------------------------------------------------------------------------------------------------------\n",
            "\n",
            "Valores unicos para la columna 'highestdegree':\n",
            "\n",
            " [' high school' ' none' ' bachelors' ' associates' ' masters' ' ged'\n",
            " ' professional' ' phd' nan]\n",
            "\n",
            "Contador de valores unicos para la columna 'highestdegree'\n",
            " highestdegree\n",
            "high school     3667\n",
            "bachelors       1673\n",
            "ged             1146\n",
            "none             953\n",
            "associates       737\n",
            "masters          603\n",
            "professional     120\n",
            "phd               54\n",
            "Name: count, dtype: int64 \n",
            "Cantidad de valores nulos:  31\n",
            "\n",
            " Cambiando los valores de la columna highestdegree a minuscula y removiendo parte numerica\n",
            "\n",
            "Contador de valores unicos para la columna 'highestdegree'\n",
            " highestdegree\n",
            "high school     3667\n",
            "bachelors       1673\n",
            "ged             1146\n",
            "none             953\n",
            "associates       737\n",
            "masters          603\n",
            "professional     120\n",
            "phd               54\n",
            "Name: count, dtype: int64 \n",
            "Cantidad de valores nulos:  31\n",
            "\n",
            "--------------------------------------------------------------------------------------------------------\n",
            "\n"
          ]
        }
      ]
    },
    {
      "cell_type": "markdown",
      "source": [
        "##Ejercicio 03: Alta Cardinalidad - Frecuencias Bajas\n",
        "\n",
        "1. De la columna 'maritalstatus' une las categorías Widowed y 'Single' en una categoría más general llamada 'Single/No Partner'. Crea una nueva columna, 'marital_grouped' donde aparezcan las nuevas categorías de maritalstatus.\n",
        "1. Imprime los valores únicos de la nueva columna 'marital_grouped'.\n",
        "1. Imprime la frecuencia de los valores únicos de la nueva columna 'marital_grouped'\n"
      ],
      "metadata": {
        "id": "zE6XAL37JmPE"
      }
    },
    {
      "cell_type": "code",
      "source": [
        "print('\\n--------------------------------------------------------------------------------------------------------\\n')\n",
        "print(\"\\nContador de valores unicos para la columna 'maritalstatus'\\n\", df['maritalstatus'].value_counts(), \"\\nCantidad de valores nulos: \", df['maritalstatus'].isnull().sum())\n",
        "\n",
        "print(\"\\nCambiando valores 'Single'/'Widowed' a 'Single/No Partner'\\n\\n\")\n",
        "df['marital_grouped'] = df['maritalstatus'].replace({'Single': 'Single/No Partner', 'Widowed': 'Single/No Partner'})\n",
        "\n",
        "print(\"Contador de valores unicos para la columna 'marital_grouped'\\n\", df['marital_grouped'].value_counts(), \"\\nCantidad de valores nulos: \", df['marital_grouped'].isnull().sum())\n"
      ],
      "metadata": {
        "colab": {
          "base_uri": "https://localhost:8080/"
        },
        "id": "fiDZVSApJu8J",
        "outputId": "db89e1ac-32f9-4ee7-cfed-22446da09e0e"
      },
      "execution_count": 5,
      "outputs": [
        {
          "output_type": "stream",
          "name": "stdout",
          "text": [
            "\n",
            "--------------------------------------------------------------------------------------------------------\n",
            "\n",
            "\n",
            "Contador de valores unicos para la columna 'maritalstatus'\n",
            " maritalstatus\n",
            "Married      3066\n",
            "Single       2766\n",
            "Divorced      663\n",
            "Separated     154\n",
            "Widowed        23\n",
            "Name: count, dtype: int64 \n",
            "Cantidad de valores nulos:  2312\n",
            "\n",
            "Cambiando valores 'Single'/'Widowed' a 'Single/No Partner'\n",
            "\n",
            "\n",
            "Contador de valores unicos para la columna 'marital_grouped'\n",
            " marital_grouped\n",
            "Married              3066\n",
            "Single/No Partner    2789\n",
            "Divorced              663\n",
            "Separated             154\n",
            "Name: count, dtype: int64 \n",
            "Cantidad de valores nulos:  2312\n"
          ]
        }
      ]
    },
    {
      "cell_type": "markdown",
      "source": [
        "##Ejercicio 04: Tipos de Datos\n",
        "\n",
        "1. Imprime el tipo de datos de la columna gender\n",
        "1. Imprime la cantidad de bytes de dicha columna\n",
        "1. Si la columna es de tipo object, modifica a category.\n",
        "1. En caso de haber realizado la modificación del tipo de datos, imprime la cantidad de bytes que ocupa dicha columna con el nuevo tipo de datos\n"
      ],
      "metadata": {
        "id": "A90CbMNJJ0B0"
      }
    },
    {
      "cell_type": "code",
      "source": [
        "#Ejercicio 04\n",
        "print('\\n--------------------------------------------------------------------------------------------------------\\n')\n",
        "\n",
        "print(\"Imprimiendo tipo de dato para columna 'gender': \",df['gender'].dtypes)\n",
        "print(\"Imprimiendo tamano en memoria para columna 'gender': \",df['gender'].memory_usage(deep=True),\" bytes\")\n",
        "print(\"\\n\\nCambiando columna 'gender' de tipo object a tipo category\\n\")\n",
        "df['gender'] = df['gender'].astype('category')\n",
        "\n",
        "print(\"Imprimiendo tipo de dato para columna 'gender': \",df['gender'].dtypes)\n",
        "print(\"Imprimiendo tamano en memoria para columna 'gender': \",df['gender'].memory_usage(deep=True),\" bytes\")\n",
        "print(df['gender'])\n"
      ],
      "metadata": {
        "colab": {
          "base_uri": "https://localhost:8080/"
        },
        "id": "lQUnMLqcJ716",
        "outputId": "c9e0fa53-a976-4044-f6aa-69decf69fdf1"
      },
      "execution_count": 7,
      "outputs": [
        {
          "output_type": "stream",
          "name": "stdout",
          "text": [
            "\n",
            "--------------------------------------------------------------------------------------------------------\n",
            "\n",
            "Imprimiendo tipo de dato para columna 'gender':  category\n",
            "Imprimiendo tamano en memoria para columna 'gender':  9332  bytes\n",
            "\n",
            "\n",
            "Cambiando columna 'gender' de tipo object a tipo category\n",
            "\n",
            "Imprimiendo tipo de dato para columna 'gender':  category\n",
            "Imprimiendo tamano en memoria para columna 'gender':  9332  bytes\n",
            "0       Female\n",
            "1         Male\n",
            "2         Male\n",
            "3         Male\n",
            "4         Male\n",
            "         ...  \n",
            "8979    Female\n",
            "8980      Male\n",
            "8981    Female\n",
            "8982    Female\n",
            "8983    Female\n",
            "Name: gender, Length: 8984, dtype: category\n",
            "Categories (2, object): ['Female', 'Male']\n"
          ]
        }
      ]
    }
  ]
}