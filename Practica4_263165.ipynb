{
  "nbformat": 4,
  "nbformat_minor": 0,
  "metadata": {
    "colab": {
      "provenance": [],
      "authorship_tag": "ABX9TyO5ynj2m9VIBwxTMN8wtrFP",
      "include_colab_link": true
    },
    "kernelspec": {
      "name": "python3",
      "display_name": "Python 3"
    },
    "language_info": {
      "name": "python"
    }
  },
  "cells": [
    {
      "cell_type": "markdown",
      "metadata": {
        "id": "view-in-github",
        "colab_type": "text"
      },
      "source": [
        "<a href=\"https://colab.research.google.com/github/ram1014/colab_files/blob/main/Practica4_263165.ipynb\" target=\"_parent\"><img src=\"https://colab.research.google.com/assets/colab-badge.svg\" alt=\"Open In Colab\"/></a>"
      ]
    },
    {
      "cell_type": "markdown",
      "source": [
        "#Practica 4\n",
        "\n",
        "Manipulación de matrices.\n",
        "\n",
        "Crea dos matrices de 3x3 con números aleatorios entre 1 y 10. Realiza las siguientes operaciones:\n",
        "\n",
        "  1.   Suma ambas matrices.\n",
        "  2.   Resta la segunda matriz de la primera.\n",
        "  3.   Multiplica la primera matriz por 2.\n",
        "  4.   Realiza una multiplicación matricial entre las dos matrices.\n",
        "\n",
        "\n"
      ],
      "metadata": {
        "id": "F0pnnaQjk8RW"
      }
    },
    {
      "cell_type": "code",
      "execution_count": 1,
      "metadata": {
        "colab": {
          "base_uri": "https://localhost:8080/"
        },
        "id": "7cej2itik7ey",
        "outputId": "9e4f56a6-60b5-4ff4-9d11-9659744b05c8"
      },
      "outputs": [
        {
          "output_type": "stream",
          "name": "stdout",
          "text": [
            "Random Matrices are \n",
            "Matrix1:\n",
            "[[2 1 3]\n",
            " [7 3 2]\n",
            " [3 8 8]]\n",
            "\n",
            "Matrix2:\n",
            "[[5 3 2]\n",
            " [2 6 2]\n",
            " [3 4 5]]\n",
            "\n",
            "Matrix1 + Matrix2 = \n",
            " [[ 7  4  5]\n",
            " [ 9  9  4]\n",
            " [ 6 12 13]]\n",
            "Matrix1 - Matrix2 = \n",
            " [[-3 -2  1]\n",
            " [ 5 -3  0]\n",
            " [ 0  4  3]]\n",
            "Matrix1 * 2 = \n",
            " [[ 4  2  6]\n",
            " [14  6  4]\n",
            " [ 6 16 16]]\n",
            "Matrix1 X Matrix2 = \n",
            " [[21 24 21]\n",
            " [47 47 30]\n",
            " [55 89 62]]\n"
          ]
        }
      ],
      "source": [
        "import numpy as np\n",
        "\n",
        "matrix1 = np.random.randint(1, 10, (3,3))\n",
        "matrix2 = np.random.randint(1, 10, (3,3))\n",
        "print(f\"Random Matrices are \\nMatrix1:\\n{matrix1}\\n\\nMatrix2:\\n{matrix2}\\n\")\n",
        "\n",
        "#Suma ambas matrices.\n",
        "matrix3 = matrix1 + matrix2\n",
        "print(f\"Matrix1 + Matrix2 = \\n {matrix3}\")\n",
        "\n",
        "#Resta la segunda matriz de la primera.\n",
        "matrix4 = matrix1 - matrix2\n",
        "print(f\"Matrix1 - Matrix2 = \\n {matrix4}\")\n",
        "\n",
        "#Multiplica la primera matriz por 2.\n",
        "matrix5 = matrix1 * 2\n",
        "print(f\"Matrix1 * 2 = \\n {matrix5}\")\n",
        "\n",
        "#Realiza una multiplicación matricial entre las dos matrices.\n",
        "matrix6 = matrix1 @ matrix2\n",
        "print(f\"Matrix1 X Matrix2 = \\n {matrix6}\")\n"
      ]
    }
  ]
}