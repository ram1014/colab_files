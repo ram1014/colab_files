{
  "nbformat": 4,
  "nbformat_minor": 0,
  "metadata": {
    "colab": {
      "provenance": [],
      "authorship_tag": "ABX9TyNbhPc+2VX6xnS2xtwyibCg",
      "include_colab_link": true
    },
    "kernelspec": {
      "name": "python3",
      "display_name": "Python 3"
    },
    "language_info": {
      "name": "python"
    }
  },
  "cells": [
    {
      "cell_type": "markdown",
      "metadata": {
        "id": "view-in-github",
        "colab_type": "text"
      },
      "source": [
        "<a href=\"https://colab.research.google.com/github/ram1014/colab_files/blob/main/Practica19_263165.ipynb\" target=\"_parent\"><img src=\"https://colab.research.google.com/assets/colab-badge.svg\" alt=\"Open In Colab\"/></a>"
      ]
    },
    {
      "cell_type": "markdown",
      "source": [
        "#Practica 19 Datos duplicados\n",
        "\n",
        "Alumno: Ramon Humberto Delgado Andrade\n",
        "\n",
        "Matrícula: 263165\n",
        "\n",
        "Profesor: Vicente García Jiménez"
      ],
      "metadata": {
        "id": "WR1qLA5qLqB6"
      }
    },
    {
      "cell_type": "markdown",
      "source": [
        "##Imports"
      ],
      "metadata": {
        "id": "T5NeRsR7Lz3q"
      }
    },
    {
      "cell_type": "code",
      "execution_count": 1,
      "metadata": {
        "colab": {
          "base_uri": "https://localhost:8080/"
        },
        "id": "sjmtsYPTLb-m",
        "outputId": "f230d97d-45eb-49d0-8c74-81a884bafaf8"
      },
      "outputs": [
        {
          "output_type": "stream",
          "name": "stdout",
          "text": [
            "Mounted at /content/drive\n"
          ]
        }
      ],
      "source": [
        "from google.colab import drive\n",
        "drive.mount('/content/drive')\n",
        "import pandas as pd"
      ]
    },
    {
      "cell_type": "markdown",
      "source": [
        "##El objetivo de esta actividad es que los estudiantes pongan en práctica lo visto en el vídeo y en el notebook que se proporciona\n",
        "\n",
        "Instrucciones:\n",
        "\n",
        "    Descarga el archivo dirtydata.csv, proporcionado en esta tarea. También lo puedes encontrar en recursos.\n",
        "    Crea un notebook en colab y guarda el archivo csv  en tu drive.\n",
        "    Agrega secciones en el colab poniendo como título el nombre de cada ejercicio\n"
      ],
      "metadata": {
        "id": "pFEc3yVtRnfe"
      }
    },
    {
      "cell_type": "code",
      "source": [
        "#load dataframe with data from nls97.csv\n",
        "df = pd.read_csv(\"/content/drive/MyDrive/ClassFiles/dirtydata.csv\")\n",
        "df['Date'] = pd.to_datetime(df['Date'], infer_datetime_format=True, format='mixed')\n",
        "print(df.head())\n",
        "print(df.dtypes)\n"
      ],
      "metadata": {
        "colab": {
          "base_uri": "https://localhost:8080/"
        },
        "id": "Aw3BIP7rRrIY",
        "outputId": "0dc2f164-c080-4952-8b59-4f9ea6e3c019"
      },
      "execution_count": 2,
      "outputs": [
        {
          "output_type": "stream",
          "name": "stdout",
          "text": [
            "   Duration       Date  Pulse  Maxpulse  Calories\n",
            "0        60 2020-12-01    110       130     409.1\n",
            "1        60 2020-12-02    117       145     479.0\n",
            "2        60 2020-12-03    103       135     340.0\n",
            "3        45 2020-12-04    109       175     282.4\n",
            "4        45 2020-12-05    117       148     406.0\n",
            "Duration             int64\n",
            "Date        datetime64[ns]\n",
            "Pulse                int64\n",
            "Maxpulse             int64\n",
            "Calories           float64\n",
            "dtype: object\n"
          ]
        },
        {
          "output_type": "stream",
          "name": "stderr",
          "text": [
            "/tmp/ipython-input-3882734867.py:3: UserWarning: The argument 'infer_datetime_format' is deprecated and will be removed in a future version. A strict version of it is now the default, see https://pandas.pydata.org/pdeps/0004-consistent-to-datetime-parsing.html. You can safely remove this argument.\n",
            "  df['Date'] = pd.to_datetime(df['Date'], infer_datetime_format=True, format='mixed')\n"
          ]
        }
      ]
    },
    {
      "cell_type": "markdown",
      "source": [
        "##Ejercicio 01 Duplicidad Parcial Una columna: Contar y Filtrar los registros duplicados en Duration\n",
        "\n",
        "1. Carga el conjunto de datos dirty.csv y verifica que su carga sea correcta.\n",
        "1. Cuenta la cantidad de registros duplicados utilizando solo la información de columna Duration e imprime\n",
        "1. Utiliza value_counts() e imprime la cantidad de registros que hay por cada valor único.\n",
        "1. Filtra los datos y obten los registros sin duplicados\n"
      ],
      "metadata": {
        "id": "TeUKyMH2SSWn"
      }
    },
    {
      "cell_type": "code",
      "source": [
        "dup_duration_count = df.duplicated(subset=['Duration']).sum()\n",
        "\n",
        "print(f\"\\n\\nEl numero de elementos duplicados en la columna 'Duration' es de : {dup_duration_count}\\n\")\n",
        "\n",
        "print(df['Duration'].value_counts())\n",
        "\n",
        "df_duration_no_dups = df.drop_duplicates(subset=['Duration'], keep='first', inplace=False)\n",
        "\n",
        "print(\"\\n\\nSet de datos removiendo duplicados basandose en la columna 'Duration'\\n\")\n",
        "print(df_duration_no_dups)\n"
      ],
      "metadata": {
        "colab": {
          "base_uri": "https://localhost:8080/"
        },
        "id": "DdrjFSJ8SMJW",
        "outputId": "9da6ab5a-c677-49c5-baa7-541123ed7e23"
      },
      "execution_count": 3,
      "outputs": [
        {
          "output_type": "stream",
          "name": "stdout",
          "text": [
            "\n",
            "\n",
            "El numero de elementos duplicados en la columna 'Duration' es de : 28\n",
            "\n",
            "Duration\n",
            "60     24\n",
            "45      6\n",
            "450     1\n",
            "30      1\n",
            "Name: count, dtype: int64\n",
            "\n",
            "\n",
            "Set de datos removiendo duplicados basandose en la columna 'Duration'\n",
            "\n",
            "   Duration       Date  Pulse  Maxpulse  Calories\n",
            "0        60 2020-12-01    110       130     409.1\n",
            "3        45 2020-12-04    109       175     282.4\n",
            "7       450 2020-12-08    104       134     253.3\n",
            "8        30 2020-12-09    109       133     195.1\n"
          ]
        }
      ]
    },
    {
      "cell_type": "markdown",
      "source": [
        "##Ejercicio 02 Duplicidad Parcial Dos columnaa: Contar y Filtrar los registros duplicados en Pulse y MaxPulse\n",
        "\n",
        "1. Carga el conjunto de datos dirty.csv y verifica que su carga sea correcta.\n",
        "1. Cuenta la cantidad de registros duplicados utilizando la información de las columnas Pulse y Maxpulse\n",
        "1. Utiliza value_counts() e imprime la cantidad de registros que hay por cada valor único.\n",
        "1. Filtra los datos y obten los registros cuando keep = 'last'\n"
      ],
      "metadata": {
        "id": "1VZ-gB-GSi7i"
      }
    },
    {
      "cell_type": "code",
      "source": [
        "dup_pulse_max_pulse_count = df.duplicated(subset=['Pulse', 'Maxpulse']).sum()\n",
        "print(f\"\\nEl numero de elementos duplicados usando las columnas 'Pulse' y 'Maxpulse'  es de : {dup_pulse_max_pulse_count}\\n\")\n",
        "print(df[['Pulse', 'Maxpulse']].value_counts())\n",
        "df_pulse_max_pulse_no_dups = df.drop_duplicates(subset=['Pulse','Maxpulse'], keep='last', inplace=False)\n",
        "print(\"\\n\\nSet de datos removiendo duplicados basandose en las columnas 'Pulse' y 'Maxpulse'\\n\")\n",
        "print(df_pulse_max_pulse_no_dups)\n"
      ],
      "metadata": {
        "colab": {
          "base_uri": "https://localhost:8080/"
        },
        "id": "CYPjJ3JHSX5a",
        "outputId": "dab8af6c-572a-404e-92df-b4a8f1543c83"
      },
      "execution_count": 4,
      "outputs": [
        {
          "output_type": "stream",
          "name": "stdout",
          "text": [
            "\n",
            "El numero de elementos duplicados usando las columnas 'Pulse' y 'Maxpulse'  es de : 3\n",
            "\n",
            "Pulse  Maxpulse\n",
            "100    120         4\n",
            "92     115         1\n",
            "       118         1\n",
            "97     125         1\n",
            "90     112         1\n",
            "98     120         1\n",
            "       123         1\n",
            "       124         1\n",
            "100    119         1\n",
            "       132         1\n",
            "102    126         1\n",
            "       127         1\n",
            "       129         1\n",
            "103    123         1\n",
            "       132         1\n",
            "       135         1\n",
            "       147         1\n",
            "104    132         1\n",
            "       134         1\n",
            "105    132         1\n",
            "106    128         1\n",
            "108    131         1\n",
            "109    133         1\n",
            "       175         1\n",
            "110    130         1\n",
            "       136         1\n",
            "117    145         1\n",
            "       148         1\n",
            "130    101         1\n",
            "Name: count, dtype: int64\n",
            "\n",
            "\n",
            "Set de datos removiendo duplicados basandose en las columnas 'Pulse' y 'Maxpulse'\n",
            "\n",
            "    Duration       Date  Pulse  Maxpulse  Calories\n",
            "0         60 2020-12-01    110       130     409.1\n",
            "1         60 2020-12-02    117       145     479.0\n",
            "2         60 2020-12-03    103       135     340.0\n",
            "3         45 2020-12-04    109       175     282.4\n",
            "4         45 2020-12-05    117       148     406.0\n",
            "5         60 2020-12-06    102       127     300.0\n",
            "6         60 2020-12-07    110       136     374.0\n",
            "7        450 2020-12-08    104       134     253.3\n",
            "8         30 2020-12-09    109       133     195.1\n",
            "9         60 2020-12-10     98       124     269.0\n",
            "10        60 2020-12-11    103       147     329.3\n",
            "13        60 2020-12-13    106       128     345.3\n",
            "14        60 2020-12-14    104       132     379.3\n",
            "15        60 2020-12-15     98       123     275.0\n",
            "16        60 2020-12-16     98       120     215.2\n",
            "18        45 2020-12-18     90       112       NaN\n",
            "19        60 2020-12-19    103       123     323.0\n",
            "20        45 2020-12-20     97       125     243.0\n",
            "21        60 2020-12-21    108       131     364.2\n",
            "22        45        NaT    100       119     282.0\n",
            "23        60 2020-12-23    130       101     300.0\n",
            "24        45 2020-12-24    105       132     246.0\n",
            "25        60 2020-12-25    102       126     334.5\n",
            "26        60 2020-12-26    100       120     250.0\n",
            "27        60 2020-12-27     92       118     241.0\n",
            "28        60 2020-12-28    103       132       NaN\n",
            "29        60 2020-12-29    100       132     280.0\n",
            "30        60 2020-12-30    102       129     380.3\n",
            "31        60 2020-12-31     92       115     243.0\n"
          ]
        }
      ]
    },
    {
      "cell_type": "markdown",
      "source": [
        "##Ejercicio 03 Duplicidad Total o Exacta: Contar y Filtrar los registros duplicados\n",
        "\n",
        "1.  Carga el conjunto de datos dirty.csv y verifica que su carga sea correcta.\n",
        "1.  Cuenta la cantidad de registros duplicados exactos (todas las columnas)\n",
        "1.  Utiliza sum() e imprime la cantidad de registros con duplicidad exacta\n",
        "1.  Filtra los datos y obten los registros cuando keep = 'last'\n"
      ],
      "metadata": {
        "id": "t4HgyBVhWZFS"
      }
    },
    {
      "cell_type": "code",
      "source": [
        "dup_all_count = df.duplicated(keep=False).sum()\n",
        "print(f\"\\nEl numero de elementos duplicados usando todas las columnas: {dup_all_count}\\n\")\n",
        "df_no_dups = df.drop_duplicates(keep='last', inplace=False)\n",
        "print(\"\\n\\nSet de datos removiendo duplicados basandose en todas las columnas \\n\\n\")\n",
        "print(df_no_dups, '\\n\\n')\n"
      ],
      "metadata": {
        "colab": {
          "base_uri": "https://localhost:8080/"
        },
        "id": "Ryg8OMmqWhFr",
        "outputId": "94583316-387b-4eec-99ab-2c61331ae759"
      },
      "execution_count": 5,
      "outputs": [
        {
          "output_type": "stream",
          "name": "stdout",
          "text": [
            "\n",
            "El numero de elementos duplicados usando todas las columnas: 2\n",
            "\n",
            "\n",
            "\n",
            "Set de datos removiendo duplicados basandose en todas las columnas \n",
            "\n",
            "\n",
            "    Duration       Date  Pulse  Maxpulse  Calories\n",
            "0         60 2020-12-01    110       130     409.1\n",
            "1         60 2020-12-02    117       145     479.0\n",
            "2         60 2020-12-03    103       135     340.0\n",
            "3         45 2020-12-04    109       175     282.4\n",
            "4         45 2020-12-05    117       148     406.0\n",
            "5         60 2020-12-06    102       127     300.0\n",
            "6         60 2020-12-07    110       136     374.0\n",
            "7        450 2020-12-08    104       134     253.3\n",
            "8         30 2020-12-09    109       133     195.1\n",
            "9         60 2020-12-10     98       124     269.0\n",
            "10        60 2020-12-11    103       147     329.3\n",
            "12        60 2020-12-12    100       120     250.7\n",
            "13        60 2020-12-13    106       128     345.3\n",
            "14        60 2020-12-14    104       132     379.3\n",
            "15        60 2020-12-15     98       123     275.0\n",
            "16        60 2020-12-16     98       120     215.2\n",
            "17        60 2020-12-17    100       120     300.0\n",
            "18        45 2020-12-18     90       112       NaN\n",
            "19        60 2020-12-19    103       123     323.0\n",
            "20        45 2020-12-20     97       125     243.0\n",
            "21        60 2020-12-21    108       131     364.2\n",
            "22        45        NaT    100       119     282.0\n",
            "23        60 2020-12-23    130       101     300.0\n",
            "24        45 2020-12-24    105       132     246.0\n",
            "25        60 2020-12-25    102       126     334.5\n",
            "26        60 2020-12-26    100       120     250.0\n",
            "27        60 2020-12-27     92       118     241.0\n",
            "28        60 2020-12-28    103       132       NaN\n",
            "29        60 2020-12-29    100       132     280.0\n",
            "30        60 2020-12-30    102       129     380.3\n",
            "31        60 2020-12-31     92       115     243.0 \n",
            "\n",
            "\n"
          ]
        }
      ]
    },
    {
      "cell_type": "markdown",
      "source": [
        "##Ejercicio 04: Cálculo de la media con duplicados y sin duplicados\n",
        "\n",
        "1. Carga el conjunto de datos dirty.csv y verifica que su carga sea correcta.\n",
        "1. Calcula e imprime la media de las columnas Pulse y MaxPulse\n",
        "1. Identifica los valores duplicados en las columnas Pulse y MaxPulse (Duplicidad Parcial) y elimina los registro repetidos. Quédate con las últimas ocurrencias\n",
        "1. Utiliza el conjunto anterior sin datos duplicados (recuerda que solo quedaron las últimas ocurrencias de los datos) y calcula la media de las columnas Pulse y MaxPulse\n"
      ],
      "metadata": {
        "id": "CLoRw4bZWobR"
      }
    },
    {
      "cell_type": "code",
      "source": [
        "print(\"Media calculada para 'Pulse' y 'Maxpulse' usando todos los datos\\n\")\n",
        "print(df[['Pulse','Maxpulse']].mean(), '\\n\\n')\n",
        "\n",
        "print(\"Media calculada para 'Pulse' y 'Maxpulse' removiendo duplicados parciales usando estas mismas columnas:\\n\")\n",
        "print(df_pulse_max_pulse_no_dups[['Pulse','Maxpulse']].mean(), '\\n\\n')\n"
      ],
      "metadata": {
        "colab": {
          "base_uri": "https://localhost:8080/"
        },
        "id": "vgljGsbDWtX7",
        "outputId": "17ffdd41-949f-44c5-8c07-904a2356c8df"
      },
      "execution_count": 6,
      "outputs": [
        {
          "output_type": "stream",
          "name": "stdout",
          "text": [
            "Media calculada para 'Pulse' y 'Maxpulse' usando todos los datos\n",
            "\n",
            "Pulse       103.5\n",
            "Maxpulse    128.5\n",
            "dtype: float64 \n",
            "\n",
            "\n",
            "Media calculada para 'Pulse' y 'Maxpulse' removiendo duplicados parciales usando estas mismas columnas:\n",
            "\n",
            "Pulse       103.862069\n",
            "Maxpulse    129.379310\n",
            "dtype: float64 \n",
            "\n",
            "\n"
          ]
        }
      ]
    }
  ]
}