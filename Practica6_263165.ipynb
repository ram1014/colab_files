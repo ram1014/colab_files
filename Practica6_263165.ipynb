{
  "nbformat": 4,
  "nbformat_minor": 0,
  "metadata": {
    "colab": {
      "provenance": [],
      "authorship_tag": "ABX9TyOTO8dcOHOEd8q9jupvpGGG",
      "include_colab_link": true
    },
    "kernelspec": {
      "name": "python3",
      "display_name": "Python 3"
    },
    "language_info": {
      "name": "python"
    }
  },
  "cells": [
    {
      "cell_type": "markdown",
      "metadata": {
        "id": "view-in-github",
        "colab_type": "text"
      },
      "source": [
        "<a href=\"https://colab.research.google.com/github/ram1014/colab_files/blob/main/Practica6_263165.ipynb\" target=\"_parent\"><img src=\"https://colab.research.google.com/assets/colab-badge.svg\" alt=\"Open In Colab\"/></a>"
      ]
    },
    {
      "cell_type": "markdown",
      "source": [
        "#Practica 6 - Manejo de Libreria Pandas"
      ],
      "metadata": {
        "id": "mwO7VWa10zxT"
      }
    },
    {
      "cell_type": "markdown",
      "source": [
        "##Goole Drive load and pandas import\n"
      ],
      "metadata": {
        "id": "gsgbHSRE1BWf"
      }
    },
    {
      "cell_type": "code",
      "execution_count": 137,
      "metadata": {
        "colab": {
          "base_uri": "https://localhost:8080/"
        },
        "id": "xB_Tp9vA0sjj",
        "outputId": "77f5659a-74f2-43ae-f194-09b2f9a3ded5"
      },
      "outputs": [
        {
          "output_type": "stream",
          "name": "stdout",
          "text": [
            "Drive already mounted at /content/drive; to attempt to forcibly remount, call drive.mount(\"/content/drive\", force_remount=True).\n"
          ]
        }
      ],
      "source": [
        "from google.colab import drive\n",
        "drive.mount('/content/drive')\n",
        "import pandas as p\n",
        "import numpy as np"
      ]
    },
    {
      "cell_type": "code",
      "source": [
        "df = pd.read_csv('/content/drive/MyDrive/ClassFiles/titanic.csv')\n",
        "\n"
      ],
      "metadata": {
        "id": "0xbp6OL-2OnM"
      },
      "execution_count": 14,
      "outputs": []
    },
    {
      "cell_type": "markdown",
      "source": [
        "#Ejercicio 1: Análisis de la distribución de supervivencia por combinación de sexo y clase del pasajero.\n",
        "\n",
        "    \n",
        "\n",
        "* Calcula la proporción de supervivencia para cada combinación de 'Sex' y 'Pclass'.\n",
        "* Identifica qué combinación tuvo la tasa de supervivencia más alta.\n",
        "* Identifica qué combinación tuvo la tasa de supervivencia más baja.\n",
        "\n",
        "\n",
        "     \n",
        "    \n",
        "\n"
      ],
      "metadata": {
        "id": "DOIAd3Vj5VMx"
      }
    },
    {
      "cell_type": "code",
      "source": [
        "#survival_count = df.groupby(['Sex','Pclass'])['Survived'].count()\n",
        "#survival_sum = df.groupby(['Sex','Pclass'])['Survived'].sum()\n",
        "survival_ratio = df.groupby(['Sex','Pclass']).agg(\n",
        "        survived_ratio=('Survived', 'mean')\n",
        "        #total=('Survived', 'count'),\n",
        "        #survived=('Survived', 'sum'),\n",
        "        #survived_ratio= ('Survived', lambda x: x.sum()/x.count())\n",
        ")\n",
        "\n",
        "id_max = survival_ratio['survived_ratio'].idxmax()\n",
        "id_min = survival_ratio['survived_ratio'].idxmin()\n",
        "\n",
        "resultmax = survival_ratio.loc[id_max]\n",
        "resultmin = survival_ratio.loc[id_min]\n",
        "print(f\"With survival rate of {resultmax['survived_ratio']:.3f} the Sex/Pclass combination with best survival rate is {resultmax.name[0]}/Class {resultmax.name[1]}\")\n",
        "print(f\"With survival rate of {resultmin['survived_ratio']:.3f} the Sex/Pclass combination with worst survival rate is {resultmin.name[0]}/Class {resultmin.name[1]}\")\n",
        "\n",
        "\n"
      ],
      "metadata": {
        "colab": {
          "base_uri": "https://localhost:8080/"
        },
        "id": "2W1iI4El5qfJ",
        "outputId": "3238d402-cbfb-420f-fc40-25ef09cd79d3"
      },
      "execution_count": 128,
      "outputs": [
        {
          "output_type": "stream",
          "name": "stdout",
          "text": [
            "With survival rate of 0.968 the Sex/Pclass combination with best survival rate is female/Class 1\n",
            "With survival rate of 0.135 the Sex/Pclass combination with worst survival rate is male/Class 3\n"
          ]
        }
      ]
    },
    {
      "cell_type": "markdown",
      "source": [
        "#Ejercicio 2: Identificación de familias grandes a bordo.\n",
        "\n",
        "    Crea una nueva columna 'FamilySize' sumando las columnas 'SibSp' y 'Parch'.\n",
        "    Considera como \"familia grande\" a aquellas donde 'FamilySize' es mayor a 3.\n",
        "    Calcula el número de pasajeros en familias grandes.\n",
        "    Calcula la proporción de supervivencia entre los pasajeros que pertenecen a familias grandes.\n"
      ],
      "metadata": {
        "id": "jS3QY4cON-Nq"
      }
    },
    {
      "cell_type": "code",
      "source": [
        "#create new column FamilySize\n",
        "df['FamilySize'] = df['SibSp'] + df['Parch']"
      ],
      "metadata": {
        "id": "0GuqW82POJKc"
      },
      "execution_count": 168,
      "outputs": []
    },
    {
      "cell_type": "code",
      "source": [
        "bigFam = df[df['FamilySize'] > 3]\n",
        "\n",
        "print(f\"Number of passengers with big families is {bigFam.shape[0]}\")\n",
        "survival_ratio_big_fam = df[df['FamilySize']>3].agg(\n",
        "        survived_ratio= ('Survived', 'mean')\n",
        ")\n",
        "\n",
        "print(f\"Survival rate for members of big families is:\\n {survival_ratio_big_fam['Survived']['survived_ratio']:.3f}\")"
      ],
      "metadata": {
        "colab": {
          "base_uri": "https://localhost:8080/"
        },
        "id": "aCNKO7vFO6cs",
        "outputId": "3cc8ced5-6e45-4a31-81b3-45852a90655d"
      },
      "execution_count": 130,
      "outputs": [
        {
          "output_type": "stream",
          "name": "stdout",
          "text": [
            "Number of passengers with big families is 62\n",
            "Survival rate for members of big families is:\n",
            " 0.161\n"
          ]
        }
      ]
    },
    {
      "cell_type": "markdown",
      "source": [
        "#Ejercicio 3: Segmentación por grupos de edad.\n",
        "\n",
        "Clasifica a los pasajeros en las siguientes categorías de edad(tip puede resultar mas sencillo realizarlo con una función):  menor de edad (< 18) y mayor de edad (>=18)"
      ],
      "metadata": {
        "id": "tVDtC69_URmw"
      }
    },
    {
      "cell_type": "code",
      "source": [
        "pass_adult = df[df['Age'] >= 18]\n",
        "pass_minor = df[df['Age'] < 18]\n",
        "\n",
        "print(f\"Number of adults: {pass_adult.shape[0]}\")\n",
        "print(f\"Number of minors: {pass_minor.shape[0]}\")"
      ],
      "metadata": {
        "colab": {
          "base_uri": "https://localhost:8080/"
        },
        "id": "bjpulUyRUWsO",
        "outputId": "567c3419-9963-4bc2-8f32-ba089ade9cec"
      },
      "execution_count": 136,
      "outputs": [
        {
          "output_type": "stream",
          "name": "stdout",
          "text": [
            "Number of adults: 601\n",
            "Number of minors: 113\n"
          ]
        }
      ]
    },
    {
      "cell_type": "markdown",
      "source": [
        "#Ejercicio 4: Comparación entre promedios calculados manualmente y con Pandas\n",
        "\n",
        "    Utiliza NumPy para calcular el promedio de las columnas 'Age' y 'Fare', ignorando valores nulos.\n",
        "    Compara estos valores con los promedios obtenidos utilizando los métodos nativos de Pandas.\n",
        "    Verifica que los resultados sean consistentes.\n"
      ],
      "metadata": {
        "id": "s04lWI0aV0v3"
      }
    },
    {
      "cell_type": "code",
      "source": [
        "arr_age = np.array(df['Age'])\n",
        "arr_filled = np.nan_to_num(arr_age, nan=0.0)\n",
        "print(\"NumPy data:\")\n",
        "print(f\"Age mean: {arr_filled.mean():.4f}\")\n",
        "arr_fare = np.array(df['Fare'])\n",
        "arr_fare[np.isnan(arr_fare)] = 0\n",
        "print(f\"Fare mean: {arr_fare.mean():.4f}\")\n",
        "\n",
        "\n",
        "print(\"Pandas data:\")\n",
        "age_fare_data = df.agg(\n",
        "        Age_Mean= ('Age', 'mean'),\n",
        "        Fare_Mean= ('Fare', 'mean')\n",
        ")\n",
        "\n",
        "print(age_fare_data)"
      ],
      "metadata": {
        "colab": {
          "base_uri": "https://localhost:8080/"
        },
        "id": "objBF444V3dM",
        "outputId": "27d1d6b8-f0fe-4948-9326-23f2513ea5d3"
      },
      "execution_count": 156,
      "outputs": [
        {
          "output_type": "stream",
          "name": "stdout",
          "text": [
            "NumPy data:\n",
            "Age mean: 23.7993\n",
            "Fare mean: 32.2042\n",
            "Pandas data:\n",
            "                 Age       Fare\n",
            "Age_Mean   29.699118        NaN\n",
            "Fare_Mean        NaN  32.204208\n"
          ]
        }
      ]
    },
    {
      "cell_type": "markdown",
      "source": [
        "#Ejercicio 5. Creación de intervalos de clase usando NumPy y análisis con Pandas\n",
        "\n",
        "    Divide la columna 'Fare' en 5 intervalos equidistantes utilizando la función numpy.linspace, el estudiante deberá investigar la operación de esta función en python.\n",
        "    Crea una nueva columna en el DataFrame que asigne a cada pasajero el intervalo correspondiente de su tarifa.\n",
        "    Calcula el número de pasajeros en cada intervalo utilizando Pandas y la proporción de supervivientes por intervalo.\n"
      ],
      "metadata": {
        "id": "ZKpGiuiJZd2Q"
      }
    },
    {
      "cell_type": "code",
      "source": [
        "fare_range = np.linspace(df['Fare'].min(), df['Fare'].max(), 6)\n",
        "labels = [f'Fare {i+1}' for i in range(6 - 1)]\n",
        "df['FareRange'] = pd.cut(df['Fare'], bins=fare_range, labels=labels, include_lowest=True)\n",
        "\n",
        "fare_range_surv_rate = df.groupby('FareRange').agg(\n",
        "        Surv_rate=('Survived', 'mean')\n",
        ")\n",
        "\n",
        "print(fare_range_surv_rate)"
      ],
      "metadata": {
        "colab": {
          "base_uri": "https://localhost:8080/"
        },
        "id": "D1lXnmRiZmLC",
        "outputId": "86e4a124-9d51-44a4-99a7-dc23afd085e3"
      },
      "execution_count": 174,
      "outputs": [
        {
          "output_type": "stream",
          "name": "stdout",
          "text": [
            "           Surv_rate\n",
            "FareRange           \n",
            "Fare 1      0.361575\n",
            "Fare 2      0.757576\n",
            "Fare 3      0.647059\n",
            "Fare 4           NaN\n",
            "Fare 5      1.000000\n"
          ]
        },
        {
          "output_type": "stream",
          "name": "stderr",
          "text": [
            "/tmp/ipython-input-2526045091.py:5: FutureWarning: The default of observed=False is deprecated and will be changed to True in a future version of pandas. Pass observed=False to retain current behavior or observed=True to adopt the future default and silence this warning.\n",
            "  fare_range_surv_rate = df.groupby('FareRange').agg(\n"
          ]
        }
      ]
    }
  ]
}