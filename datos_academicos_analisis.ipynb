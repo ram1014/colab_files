{
  "nbformat": 4,
  "nbformat_minor": 0,
  "metadata": {
    "colab": {
      "provenance": [],
      "authorship_tag": "ABX9TyNoeI5ZlsxqDZWk7e2hi/U/",
      "include_colab_link": true
    },
    "kernelspec": {
      "name": "python3",
      "display_name": "Python 3"
    },
    "language_info": {
      "name": "python"
    }
  },
  "cells": [
    {
      "cell_type": "markdown",
      "metadata": {
        "id": "view-in-github",
        "colab_type": "text"
      },
      "source": [
        "<a href=\"https://colab.research.google.com/github/ram1014/colab_files/blob/main/datos_academicos_analisis.ipynb\" target=\"_parent\"><img src=\"https://colab.research.google.com/assets/colab-badge.svg\" alt=\"Open In Colab\"/></a>"
      ]
    },
    {
      "cell_type": "markdown",
      "source": [
        "#Import Section"
      ],
      "metadata": {
        "id": "oEDfOgcuz63y"
      }
    },
    {
      "cell_type": "code",
      "source": [
        "import numpy as np\n",
        "import pandas as pd\n",
        "from sympy import Matrix\n",
        "\n",
        "from google.colab import drive\n",
        "drive.mount('/content/drive')"
      ],
      "metadata": {
        "colab": {
          "base_uri": "https://localhost:8080/"
        },
        "id": "il_BUkuWz-4a",
        "outputId": "9bae85c7-9b29-4472-b7b0-44143405aba3"
      },
      "execution_count": 1,
      "outputs": [
        {
          "output_type": "stream",
          "name": "stdout",
          "text": [
            "Mounted at /content/drive\n"
          ]
        }
      ]
    },
    {
      "cell_type": "markdown",
      "source": [
        "#Calcular Promedios"
      ],
      "metadata": {
        "id": "1bAXyaEE0odV"
      }
    },
    {
      "cell_type": "code",
      "execution_count": 2,
      "metadata": {
        "colab": {
          "base_uri": "https://localhost:8080/"
        },
        "id": "wDbXh6lRzIu3",
        "outputId": "031ac8c1-dc1c-4533-830d-b29b90f7493a"
      },
      "outputs": [
        {
          "output_type": "stream",
          "name": "stderr",
          "text": [
            "<>:8: SyntaxWarning: invalid escape sequence '\\d'\n",
            "<>:8: SyntaxWarning: invalid escape sequence '\\d'\n",
            "/tmp/ipython-input-1915239927.py:8: SyntaxWarning: invalid escape sequence '\\d'\n",
            "  student_cal_df = cal_df.filter(regex='e\\d\\d', axis=1)\n"
          ]
        },
        {
          "output_type": "stream",
          "name": "stdout",
          "text": [
            "              Asignatura  Peso   e01    e02   e03   e04   e05   e06   e07  \\\n",
            "0             Literatura  0.12  8.10   5.70  9.50  6.30  4.90  5.00  3.20   \n",
            "1               Historia  0.08  6.10  10.00  8.50  8.60  5.20  6.70  6.10   \n",
            "2            Matemáticas  0.17  3.50   3.90  8.70  4.10  4.40  3.50  3.50   \n",
            "3                 Física  0.17  3.60   3.20  7.80  5.10  8.60  3.40  4.90   \n",
            "4                Química  0.10  6.80   7.70  7.40  7.90  9.70  9.90  4.80   \n",
            "5               Sociedad  0.03  7.10   7.85  9.00  7.45  5.05  5.85  4.65   \n",
            "6    Lenguas extranjeras  0.04  7.90   6.13  9.40  6.53  4.93  5.17  3.49   \n",
            "7  Matemáticas Aplicadas  0.04  4.17   4.44  7.17  5.13  6.81  5.04  3.96   \n",
            "8        Proyecto social  0.05  4.26   4.56  6.90  4.82  4.62  3.72  3.54   \n",
            "9      Desarrollo físico  0.20  7.92   7.78  6.42  7.44  6.60  7.48  8.02   \n",
            "\n",
            "    e08   e09   e10  \n",
            "0  5.90  6.80  9.10  \n",
            "1  6.30  4.50  5.00  \n",
            "2  9.90  3.40  3.60  \n",
            "3  3.80  3.90  9.10  \n",
            "4  9.40  9.80  9.40  \n",
            "5  6.10  5.65  7.05  \n",
            "6  5.94  6.57  8.69  \n",
            "7  6.93  5.13  6.63  \n",
            "8  5.18  3.72  5.36  \n",
            "9  6.54  7.44  6.69  \n",
            "  Student  average_weight  average_reg\n",
            "0     e01          5.8398        5.945\n",
            "1     e02          5.9033        6.126\n",
            "2     e03          7.9268        8.079\n",
            "3     e04          6.2169        6.337\n",
            "4     e05          6.3561        6.081\n",
            "5     e06          5.5649        5.576\n",
            "6     e07          4.9985        4.616\n",
            "7     e08          6.7458        6.599\n",
            "8     e09          5.7085        5.691\n",
            "9     e10          7.0213        7.062\n"
          ]
        }
      ],
      "source": [
        "\n",
        "cal_df = pd.read_csv(\"/content/drive/MyDrive/ClassFiles/datos_academicos_sel_Ramon_Delgado.csv\")\n",
        "\n",
        "print(cal_df)\n",
        "\n",
        "peso_m = np.reshape(cal_df['Peso'].to_numpy(), (10,1))\n",
        "peso_eq = np.full((10,1), 1/10)\n",
        "\n",
        "student_cal_df = cal_df.filter(regex='e\\d\\d', axis=1)\n",
        "student_cal_m = student_cal_df.to_numpy().T\n",
        "\n",
        "#print(student_cal_m)\n",
        "\n",
        "\n",
        "\n",
        "#print(peso_m)\n",
        "#print(peso_eq)\n",
        "\n",
        "avg_1 = np.matmul(student_cal_m, peso_m)\n",
        "#print(avg_1)\n",
        "avg_2 = np.matmul(student_cal_m, peso_eq)\n",
        "#print(avg_2)\n",
        "avg_df = pd.DataFrame({'Student':student_cal_df.columns, 'average_weight': np.reshape(avg_1,(1,10))[0],\n",
        "                       'average_reg': np.reshape(avg_2,(1,10))[0]})\n",
        "\n",
        "print(avg_df)\n",
        "\n"
      ]
    },
    {
      "cell_type": "markdown",
      "source": [
        "#Calcular Rango"
      ],
      "metadata": {
        "id": "ZktNP-BO0tdW"
      }
    },
    {
      "cell_type": "code",
      "source": [
        "\n",
        "cal_df_2 = cal_df.drop(columns=['Peso'], axis=1).T\n",
        "print(cal_df_2)\n",
        "A = cal_df_2.iloc[1:].astype(float).to_numpy()\n",
        "\n",
        "\n",
        "print(A)\n",
        "\n",
        "\n",
        "rank1 = np.linalg.matrix_rank(A)\n",
        "\n",
        "print(f\"\\n\\nMatrix rank: {rank1}\")\n",
        "print(f\"N Cols: {A.shape[1]}\")\n",
        "\n",
        "\n",
        "\n",
        "print(\"\\n----Analizando dependencias con RREF ---\")\n",
        "\n",
        "rref_matrix,pivot_indices= Matrix(A).rref()\n",
        "numpy_rref_matrix = np.array(rref_matrix,dtype=float)\n",
        "print(\"nReduced Row Echelon Form (RREF):\")\n",
        "print(numpy_rref_matrix)\n",
        "rank_numpy_rref_matrix = np.linalg.matrix_rank(numpy_rref_matrix)\n",
        "print(f\"\\n\\nMatrix rank: {rank_numpy_rref_matrix}\")\n",
        "print(f\"N Cols: {A.shape[1]}\")\n",
        "\n",
        "print(\"Pivot column indices (independent):\")\n",
        "\n",
        "print(pivot_indices)\n",
        "#\n",
        "assign_names = cal_df['Asignatura'].to_numpy()\n",
        "#\n",
        "pivot_columns = [assign_names[i] for i in pivot_indices]\n",
        "print(\"Columnas independientes:\", pivot_columns)"
      ],
      "metadata": {
        "colab": {
          "base_uri": "https://localhost:8080/"
        },
        "id": "Xhw6NIe60W_f",
        "outputId": "301f93ce-b357-479e-b485-23fc24575515"
      },
      "execution_count": 3,
      "outputs": [
        {
          "output_type": "stream",
          "name": "stdout",
          "text": [
            "                     0         1            2       3        4         5  \\\n",
            "Asignatura  Literatura  Historia  Matemáticas  Física  Química  Sociedad   \n",
            "e01                8.1       6.1          3.5     3.6      6.8       7.1   \n",
            "e02                5.7      10.0          3.9     3.2      7.7      7.85   \n",
            "e03                9.5       8.5          8.7     7.8      7.4       9.0   \n",
            "e04                6.3       8.6          4.1     5.1      7.9      7.45   \n",
            "e05                4.9       5.2          4.4     8.6      9.7      5.05   \n",
            "e06                5.0       6.7          3.5     3.4      9.9      5.85   \n",
            "e07                3.2       6.1          3.5     4.9      4.8      4.65   \n",
            "e08                5.9       6.3          9.9     3.8      9.4       6.1   \n",
            "e09                6.8       4.5          3.4     3.9      9.8      5.65   \n",
            "e10                9.1       5.0          3.6     9.1      9.4      7.05   \n",
            "\n",
            "                              6                      7                8  \\\n",
            "Asignatura  Lenguas extranjeras  Matemáticas Aplicadas  Proyecto social   \n",
            "e01                         7.9                   4.17             4.26   \n",
            "e02                        6.13                   4.44             4.56   \n",
            "e03                         9.4                   7.17              6.9   \n",
            "e04                        6.53                   5.13             4.82   \n",
            "e05                        4.93                   6.81             4.62   \n",
            "e06                        5.17                   5.04             3.72   \n",
            "e07                        3.49                   3.96             3.54   \n",
            "e08                        5.94                   6.93             5.18   \n",
            "e09                        6.57                   5.13             3.72   \n",
            "e10                        8.69                   6.63             5.36   \n",
            "\n",
            "                            9  \n",
            "Asignatura  Desarrollo físico  \n",
            "e01                      7.92  \n",
            "e02                      7.78  \n",
            "e03                      6.42  \n",
            "e04                      7.44  \n",
            "e05                       6.6  \n",
            "e06                      7.48  \n",
            "e07                      8.02  \n",
            "e08                      6.54  \n",
            "e09                      7.44  \n",
            "e10                      6.69  \n",
            "[[ 8.1   6.1   3.5   3.6   6.8   7.1   7.9   4.17  4.26  7.92]\n",
            " [ 5.7  10.    3.9   3.2   7.7   7.85  6.13  4.44  4.56  7.78]\n",
            " [ 9.5   8.5   8.7   7.8   7.4   9.    9.4   7.17  6.9   6.42]\n",
            " [ 6.3   8.6   4.1   5.1   7.9   7.45  6.53  5.13  4.82  7.44]\n",
            " [ 4.9   5.2   4.4   8.6   9.7   5.05  4.93  6.81  4.62  6.6 ]\n",
            " [ 5.    6.7   3.5   3.4   9.9   5.85  5.17  5.04  3.72  7.48]\n",
            " [ 3.2   6.1   3.5   4.9   4.8   4.65  3.49  3.96  3.54  8.02]\n",
            " [ 5.9   6.3   9.9   3.8   9.4   6.1   5.94  6.93  5.18  6.54]\n",
            " [ 6.8   4.5   3.4   3.9   9.8   5.65  6.57  5.13  3.72  7.44]\n",
            " [ 9.1   5.    3.6   9.1   9.4   7.05  8.69  6.63  5.36  6.69]]\n",
            "\n",
            "\n",
            "Matrix rank: 6\n",
            "N Cols: 10\n",
            "\n",
            "----Analizando dependencias con RREF ---\n",
            "nReduced Row Echelon Form (RREF):\n",
            "[[1. 0. 0. 0. 0. 0. 0. 0. 0. 0.]\n",
            " [0. 1. 0. 0. 0. 0. 0. 0. 0. 0.]\n",
            " [0. 0. 1. 0. 0. 0. 0. 0. 0. 0.]\n",
            " [0. 0. 0. 1. 0. 0. 0. 0. 0. 0.]\n",
            " [0. 0. 0. 0. 1. 0. 0. 0. 0. 0.]\n",
            " [0. 0. 0. 0. 0. 1. 0. 0. 0. 0.]\n",
            " [0. 0. 0. 0. 0. 0. 1. 0. 0. 0.]\n",
            " [0. 0. 0. 0. 0. 0. 0. 1. 0. 0.]\n",
            " [0. 0. 0. 0. 0. 0. 0. 0. 1. 0.]\n",
            " [0. 0. 0. 0. 0. 0. 0. 0. 0. 1.]]\n",
            "\n",
            "\n",
            "Matrix rank: 10\n",
            "N Cols: 10\n",
            "Pivot column indices (independent):\n",
            "(0, 1, 2, 3, 4, 5, 6, 7, 8, 9)\n",
            "Columnas independientes: ['Literatura', 'Historia', 'Matemáticas', 'Física', 'Química', 'Sociedad', 'Lenguas extranjeras', 'Matemáticas Aplicadas', 'Proyecto social', 'Desarrollo físico']\n"
          ]
        }
      ]
    }
  ]
}