{
  "nbformat": 4,
  "nbformat_minor": 0,
  "metadata": {
    "colab": {
      "provenance": [],
      "authorship_tag": "ABX9TyMaUWjnOcriJ1dfr5C8csD/",
      "include_colab_link": true
    },
    "kernelspec": {
      "name": "python3",
      "display_name": "Python 3"
    },
    "language_info": {
      "name": "python"
    }
  },
  "cells": [
    {
      "cell_type": "markdown",
      "metadata": {
        "id": "view-in-github",
        "colab_type": "text"
      },
      "source": [
        "<a href=\"https://colab.research.google.com/github/ram1014/colab_files/blob/main/Practica12_16_263165.ipynb\" target=\"_parent\"><img src=\"https://colab.research.google.com/assets/colab-badge.svg\" alt=\"Open In Colab\"/></a>"
      ]
    },
    {
      "cell_type": "markdown",
      "source": [
        "Instrucciones:\n",
        "\n",
        "1. Descarga el archivo CSV, miaad-nyc-r-s.csv, proporcionado en esta tarea. También lo puedes encontrar en recursos.\n",
        "2. Crea un notebook en colab y guarda el archivo csv descargado en tu drive.\n",
        "3. Agrega secciones en el colab poniendo como título el nombre de la práctica\n",
        "\n",
        "#Práctica 12: Carga de Datos\n",
        "\n",
        "Al final del archivo contiene una línea que dice \"Esta es una línea que no deberías cargar\". Esta línea es irrelevante por lo tanto al cargar el CSV a un dataframe se debería de ignorar.\n",
        "\n",
        "* Carga el archivo a un dataframe usando el código necesario para omitir la última fila.\n",
        "* Usa df.tail(3) para demostrar que no has cargado la última línea\n",
        "* Imprime la cantidad de filas y columnas del dataframe\n"
      ],
      "metadata": {
        "id": "IhRdrEZ7XfHx"
      }
    },
    {
      "cell_type": "code",
      "source": [
        "from google.colab import drive\n",
        "drive.mount('/content/drive')\n",
        "import pandas as pd"
      ],
      "metadata": {
        "colab": {
          "base_uri": "https://localhost:8080/"
        },
        "id": "qie4O0qkXeh4",
        "outputId": "9f7f3d98-577c-43f1-e6b1-aa18e7f7544c"
      },
      "execution_count": 1,
      "outputs": [
        {
          "output_type": "stream",
          "name": "stdout",
          "text": [
            "Mounted at /content/drive\n"
          ]
        }
      ]
    },
    {
      "cell_type": "code",
      "execution_count": 2,
      "metadata": {
        "colab": {
          "base_uri": "https://localhost:8080/"
        },
        "id": "7LO4MouUXLYp",
        "outputId": "f973c3b5-e4ff-44b4-a2e6-4cdc56f8f0c4"
      },
      "outputs": [
        {
          "output_type": "stream",
          "name": "stdout",
          "text": [
            "       Unnamed: 0  BOROUGH NEIGHBORHOOD  \\\n",
            "84545        8411        5      WOODROW   \n",
            "84546        8412        5      WOODROW   \n",
            "84547        8413        5      WOODROW   \n",
            "\n",
            "                           BUILDING CLASS CATEGORY TAX CLASS AT PRESENT  \\\n",
            "84545  02 TWO FAMILY DWELLINGS                                        1   \n",
            "84546  22 STORE BUILDINGS                                             4   \n",
            "84547  35 INDOOR PUBLIC AND CULTURAL FACILITIES                       4   \n",
            "\n",
            "       BLOCK  LOT EASE-MENT BUILDING CLASS AT PRESENT                ADDRESS  \\\n",
            "84545   7351   60                                  B2       49 PITNEY AVENUE   \n",
            "84546   7100   28                                  K6  2730 ARTHUR KILL ROAD   \n",
            "84547   7105  679                                  P9      155 CLAY PIT ROAD   \n",
            "\n",
            "       ... RESIDENTIAL UNITS  COMMERCIAL UNITS  TOTAL UNITS  LAND SQUARE FEET  \\\n",
            "84545  ...                 2                 0            2              4000   \n",
            "84546  ...                 0                 7            7            208033   \n",
            "84547  ...                 0                 1            1             10796   \n",
            "\n",
            "       GROSS SQUARE FEET YEAR BUILT TAX CLASS AT TIME OF SALE  \\\n",
            "84545               1496       1925                         1   \n",
            "84546              64117       2001                         4   \n",
            "84547               2400       2006                         4   \n",
            "\n",
            "       BUILDING CLASS AT TIME OF SALE  SALE PRICE            SALE DATE  \n",
            "84545                              B2      460000  2017-07-05 00:00:00  \n",
            "84546                              K6    11693337  2016-12-21 00:00:00  \n",
            "84547                              P9       69300  2016-10-27 00:00:00  \n",
            "\n",
            "[3 rows x 22 columns]\n",
            "Data frame info:\n",
            "Rows: 84548\n",
            "Cols: 22\n"
          ]
        }
      ],
      "source": [
        "df = pd.read_csv(\"/content/drive/MyDrive/ClassFiles/miaad-nyc-r-s.csv\", skipfooter=1, engine='python')\n",
        "\n",
        "print(df.tail(3))\n",
        "\n",
        "nrows = df.shape[0]\n",
        "ncols = df.shape[1]\n",
        "\n",
        "print(f'Data frame info:\\nRows: {nrows}\\nCols: {ncols}')\n"
      ]
    },
    {
      "cell_type": "markdown",
      "source": [
        "#Práctica 13: Agregar una columna\n",
        "\n",
        "* Imprime los nombres de la columnas del archivo\n",
        "* Asegúrate que el nombre de la primera columna debería ser INDEX MIIAD. Si esto no es así, entonces agrega dicho nombre a la columna y vuelve a imprimir los nombres para mostrar el cambio realizado.\n"
      ],
      "metadata": {
        "id": "dR1LhPrLY_2S"
      }
    },
    {
      "cell_type": "code",
      "source": [
        "#first column does not have a name.\n",
        "print('First column name is blank\\n')\n",
        "print(df.columns.tolist())\n",
        "\n",
        "print('\\n\\nUpdating first column name to \"INDEX MIIAD\"\\n')\n",
        "df.rename(columns={'Unnamed: 0': 'INDEX MIIAD'}, inplace=True)\n",
        "print(df.columns.tolist())\n"
      ],
      "metadata": {
        "colab": {
          "base_uri": "https://localhost:8080/"
        },
        "id": "oGr2wPn2ZJ0o",
        "outputId": "07d6ecce-6fb3-4f5d-8fb2-71a843850991"
      },
      "execution_count": 3,
      "outputs": [
        {
          "output_type": "stream",
          "name": "stdout",
          "text": [
            "First column name is blank\n",
            "\n",
            "['Unnamed: 0', 'BOROUGH', 'NEIGHBORHOOD', 'BUILDING CLASS CATEGORY', 'TAX CLASS AT PRESENT', 'BLOCK', 'LOT', 'EASE-MENT', 'BUILDING CLASS AT PRESENT', 'ADDRESS', 'APARTMENT NUMBER', 'ZIP CODE', 'RESIDENTIAL UNITS', 'COMMERCIAL UNITS', 'TOTAL UNITS', 'LAND SQUARE FEET', 'GROSS SQUARE FEET', 'YEAR BUILT', 'TAX CLASS AT TIME OF SALE', 'BUILDING CLASS AT TIME OF SALE', 'SALE PRICE', 'SALE DATE']\n",
            "\n",
            "\n",
            "Updating first column name to \"INDEX MIIAD\"\n",
            "\n",
            "['INDEX MIIAD', 'BOROUGH', 'NEIGHBORHOOD', 'BUILDING CLASS CATEGORY', 'TAX CLASS AT PRESENT', 'BLOCK', 'LOT', 'EASE-MENT', 'BUILDING CLASS AT PRESENT', 'ADDRESS', 'APARTMENT NUMBER', 'ZIP CODE', 'RESIDENTIAL UNITS', 'COMMERCIAL UNITS', 'TOTAL UNITS', 'LAND SQUARE FEET', 'GROSS SQUARE FEET', 'YEAR BUILT', 'TAX CLASS AT TIME OF SALE', 'BUILDING CLASS AT TIME OF SALE', 'SALE PRICE', 'SALE DATE']\n"
          ]
        }
      ]
    },
    {
      "cell_type": "markdown",
      "source": [
        "#Práctica 14: Normalización de los nombres de la columna.\n",
        "\n",
        "* Normaliza los nombres de ls columnas, los cuales deberán estar en minúsculas. Asimismo, reemplaza los espacios con guion bajo\n",
        "* Imprime los nombres de las columnas para demostrar que has realizado la normalización.\n"
      ],
      "metadata": {
        "id": "lX28kxk1ZWNT"
      }
    },
    {
      "cell_type": "code",
      "source": [
        "print('\\n\\nNormalizing column names\\n')\n",
        "df.columns = df.columns.str.lower().str.replace(\" \",\"_\")\n",
        "print(df.columns.tolist())\n",
        "\n",
        "df.info()\n"
      ],
      "metadata": {
        "colab": {
          "base_uri": "https://localhost:8080/"
        },
        "id": "33p3YFpTZnp7",
        "outputId": "207829e6-745f-4d4c-fc2a-0888b830a33c"
      },
      "execution_count": 4,
      "outputs": [
        {
          "output_type": "stream",
          "name": "stdout",
          "text": [
            "\n",
            "\n",
            "Normalizing column names\n",
            "\n",
            "['index_miiad', 'borough', 'neighborhood', 'building_class_category', 'tax_class_at_present', 'block', 'lot', 'ease-ment', 'building_class_at_present', 'address', 'apartment_number', 'zip_code', 'residential_units', 'commercial_units', 'total_units', 'land_square_feet', 'gross_square_feet', 'year_built', 'tax_class_at_time_of_sale', 'building_class_at_time_of_sale', 'sale_price', 'sale_date']\n",
            "<class 'pandas.core.frame.DataFrame'>\n",
            "RangeIndex: 84548 entries, 0 to 84547\n",
            "Data columns (total 22 columns):\n",
            " #   Column                          Non-Null Count  Dtype \n",
            "---  ------                          --------------  ----- \n",
            " 0   index_miiad                     84548 non-null  int64 \n",
            " 1   borough                         84548 non-null  int64 \n",
            " 2   neighborhood                    84548 non-null  object\n",
            " 3   building_class_category         84548 non-null  object\n",
            " 4   tax_class_at_present            84548 non-null  object\n",
            " 5   block                           84548 non-null  int64 \n",
            " 6   lot                             84548 non-null  int64 \n",
            " 7   ease-ment                       84548 non-null  object\n",
            " 8   building_class_at_present       84548 non-null  object\n",
            " 9   address                         84548 non-null  object\n",
            " 10  apartment_number                84548 non-null  object\n",
            " 11  zip_code                        84548 non-null  int64 \n",
            " 12  residential_units               84548 non-null  int64 \n",
            " 13  commercial_units                84548 non-null  int64 \n",
            " 14  total_units                     84548 non-null  int64 \n",
            " 15  land_square_feet                84548 non-null  object\n",
            " 16  gross_square_feet               84548 non-null  object\n",
            " 17  year_built                      84548 non-null  int64 \n",
            " 18  tax_class_at_time_of_sale       84548 non-null  int64 \n",
            " 19  building_class_at_time_of_sale  84548 non-null  object\n",
            " 20  sale_price                      84548 non-null  object\n",
            " 21  sale_date                       84548 non-null  object\n",
            "dtypes: int64(10), object(12)\n",
            "memory usage: 14.2+ MB\n"
          ]
        }
      ]
    },
    {
      "cell_type": "markdown",
      "source": [
        "#Práctica 15: Errores en los Tipos de Datos\n",
        "\n",
        "* Imprime los tipos de datos de cada columna.\n",
        "* Asegúrate que las columnas de SALE PRICE(sale_price), LAND SQUARE FEET (land_square_feet), GROSS SQUARE FEET (gross_square_feet) sean de tipo flotante. Escribe qué tipo de dato tienen asignado. Si no son correctos, realiza el cambio.\n",
        "* Imprime de nuevo los tipos de datos para demostrar que has arreglado el problema.\n"
      ],
      "metadata": {
        "id": "DvGDp_gGZx5y"
      }
    },
    {
      "cell_type": "code",
      "source": [
        "print(\"\\n\\nMaking sale_price, land_square_feet and gross_square_feet to be float type\\n\")\n",
        "df['sale_price'] = df['sale_price'].replace(r\"\\s+-\\s+\", 0.0, regex=True).astype(float)\n",
        "df['land_square_feet'] = df['land_square_feet'].replace(r\"\\s+-\\s+\", 0.0, regex=True).astype(float)\n",
        "df['gross_square_feet'] = df['gross_square_feet'].replace(r\"\\s+-\\s+\", 0.0, regex=True).astype(float)\n",
        "\n",
        "df.info()\n"
      ],
      "metadata": {
        "colab": {
          "base_uri": "https://localhost:8080/"
        },
        "id": "srElCzbNaDXZ",
        "outputId": "b5c64a89-9768-4e34-f276-345f16b06b1e"
      },
      "execution_count": 5,
      "outputs": [
        {
          "output_type": "stream",
          "name": "stdout",
          "text": [
            "\n",
            "\n",
            "Making sale_price, land_square_feet and gross_square_feet to be float type\n",
            "\n",
            "<class 'pandas.core.frame.DataFrame'>\n",
            "RangeIndex: 84548 entries, 0 to 84547\n",
            "Data columns (total 22 columns):\n",
            " #   Column                          Non-Null Count  Dtype  \n",
            "---  ------                          --------------  -----  \n",
            " 0   index_miiad                     84548 non-null  int64  \n",
            " 1   borough                         84548 non-null  int64  \n",
            " 2   neighborhood                    84548 non-null  object \n",
            " 3   building_class_category         84548 non-null  object \n",
            " 4   tax_class_at_present            84548 non-null  object \n",
            " 5   block                           84548 non-null  int64  \n",
            " 6   lot                             84548 non-null  int64  \n",
            " 7   ease-ment                       84548 non-null  object \n",
            " 8   building_class_at_present       84548 non-null  object \n",
            " 9   address                         84548 non-null  object \n",
            " 10  apartment_number                84548 non-null  object \n",
            " 11  zip_code                        84548 non-null  int64  \n",
            " 12  residential_units               84548 non-null  int64  \n",
            " 13  commercial_units                84548 non-null  int64  \n",
            " 14  total_units                     84548 non-null  int64  \n",
            " 15  land_square_feet                84548 non-null  float64\n",
            " 16  gross_square_feet               84548 non-null  float64\n",
            " 17  year_built                      84548 non-null  int64  \n",
            " 18  tax_class_at_time_of_sale       84548 non-null  int64  \n",
            " 19  building_class_at_time_of_sale  84548 non-null  object \n",
            " 20  sale_price                      84548 non-null  float64\n",
            " 21  sale_date                       84548 non-null  object \n",
            "dtypes: float64(3), int64(10), object(9)\n",
            "memory usage: 14.2+ MB\n"
          ]
        }
      ]
    },
    {
      "cell_type": "markdown",
      "source": [
        "#Práctica 15:\n",
        "Genera el diccionario de datos del dataframe preprocesado. Imprime el contenido de dicho diccionario"
      ],
      "metadata": {
        "id": "4GDcdpLXaOWK"
      }
    },
    {
      "cell_type": "code",
      "source": [
        "data_dictionary = pd.DataFrame({\"Column Name\": df.columns,\n",
        "                                  \"Data type\": [str(df[col].dtype) for col in df.columns]})\n",
        "\n",
        "print(data_dictionary)\n"
      ],
      "metadata": {
        "colab": {
          "base_uri": "https://localhost:8080/"
        },
        "id": "lg4pwfShaXmF",
        "outputId": "a9ae6aca-4ed1-4a91-e722-868b52cc5e87"
      },
      "execution_count": 6,
      "outputs": [
        {
          "output_type": "stream",
          "name": "stdout",
          "text": [
            "                       Column Name Data type\n",
            "0                      index_miiad     int64\n",
            "1                          borough     int64\n",
            "2                     neighborhood    object\n",
            "3          building_class_category    object\n",
            "4             tax_class_at_present    object\n",
            "5                            block     int64\n",
            "6                              lot     int64\n",
            "7                        ease-ment    object\n",
            "8        building_class_at_present    object\n",
            "9                          address    object\n",
            "10                apartment_number    object\n",
            "11                        zip_code     int64\n",
            "12               residential_units     int64\n",
            "13                commercial_units     int64\n",
            "14                     total_units     int64\n",
            "15                land_square_feet   float64\n",
            "16               gross_square_feet   float64\n",
            "17                      year_built     int64\n",
            "18       tax_class_at_time_of_sale     int64\n",
            "19  building_class_at_time_of_sale    object\n",
            "20                      sale_price   float64\n",
            "21                       sale_date    object\n"
          ]
        }
      ]
    }
  ]
}