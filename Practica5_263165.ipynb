{
  "nbformat": 4,
  "nbformat_minor": 0,
  "metadata": {
    "colab": {
      "provenance": [],
      "authorship_tag": "ABX9TyOBryySXoDUc8KrglTZYfA8",
      "include_colab_link": true
    },
    "kernelspec": {
      "name": "python3",
      "display_name": "Python 3"
    },
    "language_info": {
      "name": "python"
    }
  },
  "cells": [
    {
      "cell_type": "markdown",
      "metadata": {
        "id": "view-in-github",
        "colab_type": "text"
      },
      "source": [
        "<a href=\"https://colab.research.google.com/github/ram1014/colab_files/blob/main/Practica5_263165.ipynb\" target=\"_parent\"><img src=\"https://colab.research.google.com/assets/colab-badge.svg\" alt=\"Open In Colab\"/></a>"
      ]
    },
    {
      "cell_type": "markdown",
      "source": [
        "#Practica 5\n",
        "\n",
        "Uso de máscaras booleanas.\n",
        "\n",
        "Crea un arreglo unidimensional con 15 números aleatorios entre 1 y 50. Luego:\n",
        "\n",
        "    \n",
        "1.   Selecciona los elementos mayores que 25 utilizando una máscara booleana.\n",
        "2.   Cuenta cuántos elementos son mayores que 25.\n",
        "\n",
        "\n",
        "\n",
        "    "
      ],
      "metadata": {
        "id": "2hjeC8owqDE8"
      }
    },
    {
      "cell_type": "code",
      "execution_count": 10,
      "metadata": {
        "colab": {
          "base_uri": "https://localhost:8080/"
        },
        "id": "2OQfBz6IqA1-",
        "outputId": "8cd15b7b-9965-40ff-e890-fd4771171255"
      },
      "outputs": [
        {
          "output_type": "stream",
          "name": "stdout",
          "text": [
            "Random Array is: \n",
            "[41 38 43  5 44 19 40 11 20 46 10 43 27 28 40]\n",
            "There are 10 elements greater than 25: \n",
            "[41 38 43 44 40 46 43 27 28 40]\n"
          ]
        }
      ],
      "source": [
        "import numpy as np\n",
        "\n",
        "#Create random array\n",
        "array1 = np.random.randint(1, 50, 15)\n",
        "print(f\"Random Array is: \\n{array1}\")\n",
        "\n",
        "#Use mask to get only values greater than 25\n",
        "array2 = array1[array1 > 25];\n",
        "#get size of array2\n",
        "count = array2.size\n",
        "#print results\n",
        "print(f\"There are {count} elements greater than 25: \\n{array2}\")\n"
      ]
    }
  ]
}