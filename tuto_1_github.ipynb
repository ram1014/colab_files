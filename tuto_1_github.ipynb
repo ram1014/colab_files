{
  "nbformat": 4,
  "nbformat_minor": 0,
  "metadata": {
    "colab": {
      "provenance": [],
      "mount_file_id": "1dc6hWQQ9JJnTjVpHbo30pDPfA29WL9IV",
      "authorship_tag": "ABX9TyOnVIFuFc7q0B/eVGhmR76u",
      "include_colab_link": true
    },
    "kernelspec": {
      "name": "python3",
      "display_name": "Python 3"
    },
    "language_info": {
      "name": "python"
    }
  },
  "cells": [
    {
      "cell_type": "markdown",
      "metadata": {
        "id": "view-in-github",
        "colab_type": "text"
      },
      "source": [
        "<a href=\"https://colab.research.google.com/github/ram1014/colab_files/blob/main/tuto_1_github.ipynb\" target=\"_parent\"><img src=\"https://colab.research.google.com/assets/colab-badge.svg\" alt=\"Open In Colab\"/></a>"
      ]
    },
    {
      "cell_type": "code",
      "execution_count": 1,
      "metadata": {
        "colab": {
          "base_uri": "https://localhost:8080/"
        },
        "id": "oYIOeSCTu3I6",
        "outputId": "9b9127eb-6486-4baa-9bd1-ba0400f6b4e7"
      },
      "outputs": [
        {
          "output_type": "stream",
          "name": "stdout",
          "text": [
            "hola como estas\n"
          ]
        }
      ],
      "source": [
        "print('hola como estas')"
      ]
    },
    {
      "cell_type": "code",
      "source": [
        "x = 'prueba 2'\n",
        "print(x)"
      ],
      "metadata": {
        "colab": {
          "base_uri": "https://localhost:8080/"
        },
        "id": "2TWB4Xbo0SY1",
        "outputId": "453907ff-256a-4dc3-e85b-22091af45bf9"
      },
      "execution_count": 2,
      "outputs": [
        {
          "output_type": "stream",
          "name": "stdout",
          "text": [
            "prueba 2\n"
          ]
        }
      ]
    }
  ]
}