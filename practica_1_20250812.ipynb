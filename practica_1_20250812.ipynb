{
  "nbformat": 4,
  "nbformat_minor": 0,
  "metadata": {
    "colab": {
      "provenance": [],
      "authorship_tag": "ABX9TyOD+CK5wOj/6wxfs8nePfDJ",
      "include_colab_link": true
    },
    "kernelspec": {
      "name": "python3",
      "display_name": "Python 3"
    },
    "language_info": {
      "name": "python"
    }
  },
  "cells": [
    {
      "cell_type": "markdown",
      "metadata": {
        "id": "view-in-github",
        "colab_type": "text"
      },
      "source": [
        "<a href=\"https://colab.research.google.com/github/ram1014/colab_files/blob/main/practica_1_20250812.ipynb\" target=\"_parent\"><img src=\"https://colab.research.google.com/assets/colab-badge.svg\" alt=\"Open In Colab\"/></a>"
      ]
    },
    {
      "cell_type": "markdown",
      "source": [
        "#Practica 1\n"
      ],
      "metadata": {
        "id": "vJRk4Z4W3T2g"
      }
    },
    {
      "cell_type": "markdown",
      "source": [
        "##Import Drive section"
      ],
      "metadata": {
        "id": "OB7cb3Yf9GXQ"
      }
    },
    {
      "cell_type": "code",
      "execution_count": 1,
      "metadata": {
        "colab": {
          "base_uri": "https://localhost:8080/"
        },
        "id": "CpGaEIe-3Lon",
        "outputId": "09e40fa3-8e76-46e4-ead0-f67b5f89fff9"
      },
      "outputs": [
        {
          "output_type": "stream",
          "name": "stdout",
          "text": [
            "Mounted at /content/drive\n"
          ]
        }
      ],
      "source": [
        "from google.colab import drive\n",
        "\n",
        "drive.mount('/content/drive')\n",
        "\n"
      ]
    },
    {
      "cell_type": "markdown",
      "source": [
        "##Code to pull data from mbox.txt"
      ],
      "metadata": {
        "id": "KrFrfhmf9u2d"
      }
    },
    {
      "cell_type": "code",
      "source": [
        "#Open File mbox.txt as read-only\n",
        "f = open('/content/drive/MyDrive/ClassFiles/mbox.txt', 'r')\n",
        "\n",
        "#Declare variable to do calculations\n",
        "numList = []\n",
        "sumItems = 0.0\n",
        "varNum = 0.0\n",
        "\n",
        "#Read file Line by line and append to list all numeric(float) values\n",
        "for line in f:\n",
        "  if line.startswith('X-DSPAM-Confidence'):\n",
        "    numList.append(float((line.rstrip().partition(': ')[2])))\n",
        "\n",
        "#Calculate sum of all items in list\n",
        "for item in numList:\n",
        "  sumItems += item\n",
        "\n",
        "#Calculate Mean\n",
        "nItems = len(numList)\n",
        "m = sumItems/nItems\n",
        "#Get numerator for variance calculation\n",
        "for item in numList:\n",
        "  varNum += (item - m)**2\n",
        "#calc variance\n",
        "var = varNum/nItems\n",
        "print(f\"Total items in result list: {nItems}\")\n",
        "print(f\"Total sum of items in result list: {sumItems}\")\n",
        "print(f\"Calculated mean of numbers in list: {m}\")\n",
        "print(f\"Calculated variance of numbers in list: {var}\")"
      ],
      "metadata": {
        "colab": {
          "base_uri": "https://localhost:8080/"
        },
        "id": "yDWgpv1J9EJK",
        "outputId": "0c8ea4de-e1bf-4360-8c62-61338f627077"
      },
      "execution_count": 6,
      "outputs": [
        {
          "output_type": "stream",
          "name": "stdout",
          "text": [
            "Total items in result list: 1797\n",
            "Total sum of items in result list: 1606.7480999999987\n",
            "Calculated mean of numbers in list: 0.8941280467445736\n",
            "Calculated variance of numbers in list: 0.012322985913435797\n"
          ]
        }
      ]
    },
    {
      "cell_type": "markdown",
      "source": [
        "Using variance Formula\n",
        "$$\\sigma^2 = \\frac{1}{n} \\sum_{i=1}^n (x_i - \\bar{x})^2$$\n",
        "\n",
        "Where\n",
        "\n",
        "$x_i$      represents each individual value.\n",
        "\n",
        "$\\bar{x}$  represents the population mean.\n",
        "\n",
        "$n$        represents total number of values in population."
      ],
      "metadata": {
        "id": "2Jub8P8p5gOe"
      }
    }
  ]
}