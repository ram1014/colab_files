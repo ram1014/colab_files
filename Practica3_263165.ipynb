{
  "nbformat": 4,
  "nbformat_minor": 0,
  "metadata": {
    "colab": {
      "provenance": [],
      "authorship_tag": "ABX9TyPuFIF7b18eJRmJKyNMuJwp",
      "include_colab_link": true
    },
    "kernelspec": {
      "name": "python3",
      "display_name": "Python 3"
    },
    "language_info": {
      "name": "python"
    }
  },
  "cells": [
    {
      "cell_type": "markdown",
      "metadata": {
        "id": "view-in-github",
        "colab_type": "text"
      },
      "source": [
        "<a href=\"https://colab.research.google.com/github/ram1014/colab_files/blob/main/Practica3_263165.ipynb\" target=\"_parent\"><img src=\"https://colab.research.google.com/assets/colab-badge.svg\" alt=\"Open In Colab\"/></a>"
      ]
    },
    {
      "cell_type": "markdown",
      "source": [
        "#Practica 3\n",
        "Creación de un arreglo y operaciones básicas.\n",
        "\n",
        "Crea un arreglo unidimensional de 20 elementos con valores aleatorios entre 1 y 100. Luego, realiza las siguientes operaciones:\n",
        "\n",
        "    \n",
        "\n",
        "  1.   Encuentra el valor máximo del arreglo.\n",
        "  2.   Encuentra el valor mínimo del arreglo.\n",
        "  3.   Calcula la media del arreglo.\n",
        "  4.   Suma 10 a cada elemento del arreglo.\n",
        "\n",
        "\n",
        "\n",
        "    \n",
        "\n",
        "    \n",
        "\n",
        "    \n"
      ],
      "metadata": {
        "id": "unpM7pSvaEL2"
      }
    },
    {
      "cell_type": "code",
      "execution_count": 1,
      "metadata": {
        "colab": {
          "base_uri": "https://localhost:8080/"
        },
        "id": "UJY2bNkfZ6Yb",
        "outputId": "ee9952d8-7efb-4811-bde0-b7bbfc410f76"
      },
      "outputs": [
        {
          "output_type": "stream",
          "name": "stdout",
          "text": [
            "Random Array is \n",
            "[90 57 29 42 36 64 54 68 55 58 78 83 78 40 22 27 22 81  5 68]\n",
            "Max Val of array is 90\n",
            "Min Val of array is 5\n",
            "Mean of array is 52.85\n",
            "Result of adding 10 to all array elements: \n",
            "[100  67  39  52  46  74  64  78  65  68  88  93  88  50  32  37  32  91\n",
            "  15  78]\n"
          ]
        }
      ],
      "source": [
        "import numpy as np\n",
        "\n",
        "#Create arary with random numbers\n",
        "array1 = np.random.randint(1, 100, 20)\n",
        "print(f\"Random Array is \\n{array1}\")\n",
        "\n",
        "#get values of interest.\n",
        "maxv = array1.max()\n",
        "minv = array1.min()\n",
        "meanv = array1.mean()\n",
        "\n",
        "#Print values of interest.\n",
        "print(f\"Max Val of array is {maxv}\")\n",
        "print(f\"Min Val of array is {minv}\")\n",
        "print(f\"Mean of array is {meanv}\")\n",
        "\n",
        "#Add 10 to each of the elements of array\n",
        "array1 = array1 + 10;\n",
        "#Print Array\n",
        "print(f\"Result of adding 10 to all array elements: \\n{array1}\")\n"
      ]
    }
  ]
}